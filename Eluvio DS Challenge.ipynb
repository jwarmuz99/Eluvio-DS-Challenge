{
 "cells": [
  {
   "cell_type": "code",
   "execution_count": 541,
   "id": "specific-guatemala",
   "metadata": {},
   "outputs": [
    {
     "name": "stderr",
     "output_type": "stream",
     "text": [
      "[nltk_data] Downloading package stopwords to\n",
      "[nltk_data]     /Users/kubawarmuz/nltk_data...\n",
      "[nltk_data]   Package stopwords is already up-to-date!\n"
     ]
    }
   ],
   "source": [
    "#importing all the necessary libraries\n",
    "import numpy as np\n",
    "import pandas as pd\n",
    "import matplotlib.pyplot as plt\n",
    "import matplotlib as mpl\n",
    "from sklearn.preprocessing import MinMaxScaler\n",
    "from sklearn.model_selection import train_test_split, cross_val_score\n",
    "from sklearn.linear_model import LogisticRegression, LinearRegression\n",
    "from sklearn.ensemble import GradientBoostingRegressor, GradientBoostingClassifier\n",
    "from sklearn.discriminant_analysis import LinearDiscriminantAnalysis as LDA\n",
    "import shap\n",
    "import seaborn as sns\n",
    "from sklearn.model_selection import train_test_split\n",
    "from sklearn import metrics\n",
    "from sklearn.model_selection import RandomizedSearchCV\n",
    "import random\n",
    "import datetime\n",
    "import holidays\n",
    "from imblearn.over_sampling import SMOTE\n",
    "from sklearn.decomposition import LatentDirichletAllocation\n",
    "from sklearn.feature_extraction.text import CountVectorizer\n",
    "import gensim.corpora as corpora\n",
    "import re\n",
    "from nltk.corpus import stopwords\n",
    "import nltk\n",
    "nltk.download('stopwords')\n",
    "from nltk.tokenize import word_tokenize\n",
    "import pyLDAvis\n",
    "import pyLDAvis.sklearn\n",
    "pyLDAvis.enable_notebook()\n",
    "import tmtoolkit\n",
    "from transformers import pipeline\n",
    "random.seed(123)\n",
    "%matplotlib inline\n",
    "mpl.rcParams['figure.figsize'] = [10,8]"
   ]
  },
  {
   "cell_type": "code",
   "execution_count": 462,
   "id": "challenging-excess",
   "metadata": {},
   "outputs": [
    {
     "name": "stdout",
     "output_type": "stream",
     "text": [
      "Requirement already satisfied: sklearn in /Users/kubawarmuz/opt/anaconda3/envs/python37env/lib/python3.7/site-packages (0.0)\n",
      "Requirement already satisfied: scikit-learn in /Users/kubawarmuz/opt/anaconda3/envs/python37env/lib/python3.7/site-packages (from sklearn) (0.24.1)\n",
      "Requirement already satisfied: threadpoolctl>=2.0.0 in /Users/kubawarmuz/opt/anaconda3/envs/python37env/lib/python3.7/site-packages (from scikit-learn->sklearn) (2.1.0)\n",
      "Requirement already satisfied: numpy>=1.13.3 in /Users/kubawarmuz/opt/anaconda3/envs/python37env/lib/python3.7/site-packages (from scikit-learn->sklearn) (1.19.5)\n",
      "Requirement already satisfied: joblib>=0.11 in /Users/kubawarmuz/opt/anaconda3/envs/python37env/lib/python3.7/site-packages (from scikit-learn->sklearn) (1.0.1)\n",
      "Requirement already satisfied: scipy>=0.19.1 in /Users/kubawarmuz/opt/anaconda3/envs/python37env/lib/python3.7/site-packages (from scikit-learn->sklearn) (1.5.4)\n"
     ]
    }
   ],
   "source": [
    "!pip install sklearn "
   ]
  },
  {
   "cell_type": "code",
   "execution_count": 34,
   "id": "average-temperature",
   "metadata": {},
   "outputs": [
    {
     "name": "stdout",
     "output_type": "stream",
     "text": [
      "Shape: (509236, 8)\n"
     ]
    },
    {
     "data": {
      "text/html": [
       "<div>\n",
       "<style scoped>\n",
       "    .dataframe tbody tr th:only-of-type {\n",
       "        vertical-align: middle;\n",
       "    }\n",
       "\n",
       "    .dataframe tbody tr th {\n",
       "        vertical-align: top;\n",
       "    }\n",
       "\n",
       "    .dataframe thead th {\n",
       "        text-align: right;\n",
       "    }\n",
       "</style>\n",
       "<table border=\"1\" class=\"dataframe\">\n",
       "  <thead>\n",
       "    <tr style=\"text-align: right;\">\n",
       "      <th></th>\n",
       "      <th>time_created</th>\n",
       "      <th>date_created</th>\n",
       "      <th>up_votes</th>\n",
       "      <th>down_votes</th>\n",
       "      <th>title</th>\n",
       "      <th>over_18</th>\n",
       "      <th>author</th>\n",
       "      <th>category</th>\n",
       "    </tr>\n",
       "  </thead>\n",
       "  <tbody>\n",
       "    <tr>\n",
       "      <th>0</th>\n",
       "      <td>1201232046</td>\n",
       "      <td>2008-01-25</td>\n",
       "      <td>3</td>\n",
       "      <td>0</td>\n",
       "      <td>Scores killed in Pakistan clashes</td>\n",
       "      <td>False</td>\n",
       "      <td>polar</td>\n",
       "      <td>worldnews</td>\n",
       "    </tr>\n",
       "    <tr>\n",
       "      <th>1</th>\n",
       "      <td>1201232075</td>\n",
       "      <td>2008-01-25</td>\n",
       "      <td>2</td>\n",
       "      <td>0</td>\n",
       "      <td>Japan resumes refuelling mission</td>\n",
       "      <td>False</td>\n",
       "      <td>polar</td>\n",
       "      <td>worldnews</td>\n",
       "    </tr>\n",
       "    <tr>\n",
       "      <th>2</th>\n",
       "      <td>1201232523</td>\n",
       "      <td>2008-01-25</td>\n",
       "      <td>3</td>\n",
       "      <td>0</td>\n",
       "      <td>US presses Egypt on Gaza border</td>\n",
       "      <td>False</td>\n",
       "      <td>polar</td>\n",
       "      <td>worldnews</td>\n",
       "    </tr>\n",
       "    <tr>\n",
       "      <th>3</th>\n",
       "      <td>1201233290</td>\n",
       "      <td>2008-01-25</td>\n",
       "      <td>1</td>\n",
       "      <td>0</td>\n",
       "      <td>Jump-start economy: Give health care to all</td>\n",
       "      <td>False</td>\n",
       "      <td>fadi420</td>\n",
       "      <td>worldnews</td>\n",
       "    </tr>\n",
       "    <tr>\n",
       "      <th>4</th>\n",
       "      <td>1201274720</td>\n",
       "      <td>2008-01-25</td>\n",
       "      <td>4</td>\n",
       "      <td>0</td>\n",
       "      <td>Council of Europe bashes EU&amp;UN terror blacklist</td>\n",
       "      <td>False</td>\n",
       "      <td>mhermans</td>\n",
       "      <td>worldnews</td>\n",
       "    </tr>\n",
       "  </tbody>\n",
       "</table>\n",
       "</div>"
      ],
      "text/plain": [
       "   time_created date_created  up_votes  down_votes  \\\n",
       "0    1201232046   2008-01-25         3           0   \n",
       "1    1201232075   2008-01-25         2           0   \n",
       "2    1201232523   2008-01-25         3           0   \n",
       "3    1201233290   2008-01-25         1           0   \n",
       "4    1201274720   2008-01-25         4           0   \n",
       "\n",
       "                                             title  over_18    author  \\\n",
       "0                Scores killed in Pakistan clashes    False     polar   \n",
       "1                 Japan resumes refuelling mission    False     polar   \n",
       "2                  US presses Egypt on Gaza border    False     polar   \n",
       "3     Jump-start economy: Give health care to all     False   fadi420   \n",
       "4  Council of Europe bashes EU&UN terror blacklist    False  mhermans   \n",
       "\n",
       "    category  \n",
       "0  worldnews  \n",
       "1  worldnews  \n",
       "2  worldnews  \n",
       "3  worldnews  \n",
       "4  worldnews  "
      ]
     },
     "execution_count": 34,
     "metadata": {},
     "output_type": "execute_result"
    }
   ],
   "source": [
    "df = pd.read_csv('Eluvio_DS_Challenge.csv')\n",
    "print(\"Shape:\", df.shape)\n",
    "df.head()"
   ]
  },
  {
   "cell_type": "markdown",
   "id": "minus-instrument",
   "metadata": {},
   "source": [
    "## Exploratory Data Analysis (EDA)\n",
    "\n",
    "First, I want to understand the data better. For this purpose, I will conduct an exploratory data analysis. This will include the examination of unique values, distributions over variables of interest, oftentimes grouped in a way that delives more insight, and correlations between the covariates."
   ]
  },
  {
   "cell_type": "code",
   "execution_count": 8,
   "id": "received-islam",
   "metadata": {},
   "outputs": [
    {
     "data": {
      "text/plain": [
       "title       500720\n",
       "author       85838\n",
       "category         1\n",
       "dtype: int64"
      ]
     },
     "execution_count": 8,
     "metadata": {},
     "output_type": "execute_result"
    }
   ],
   "source": [
    "df[['title', 'author', 'category']].nunique()"
   ]
  },
  {
   "cell_type": "code",
   "execution_count": 9,
   "id": "dirty-petersburg",
   "metadata": {},
   "outputs": [
    {
     "data": {
      "text/plain": [
       "count    509236.000000\n",
       "mean        112.236283\n",
       "std         541.694675\n",
       "min           0.000000\n",
       "25%           1.000000\n",
       "50%           5.000000\n",
       "75%          16.000000\n",
       "max       21253.000000\n",
       "Name: up_votes, dtype: float64"
      ]
     },
     "execution_count": 9,
     "metadata": {},
     "output_type": "execute_result"
    }
   ],
   "source": [
    "df['up_votes'].describe()"
   ]
  },
  {
   "cell_type": "code",
   "execution_count": 10,
   "id": "artistic-vessel",
   "metadata": {},
   "outputs": [
    {
     "data": {
      "text/plain": [
       "count    509236.0\n",
       "mean          0.0\n",
       "std           0.0\n",
       "min           0.0\n",
       "25%           0.0\n",
       "50%           0.0\n",
       "75%           0.0\n",
       "max           0.0\n",
       "Name: down_votes, dtype: float64"
      ]
     },
     "execution_count": 10,
     "metadata": {},
     "output_type": "execute_result"
    }
   ],
   "source": [
    "df['down_votes'].describe()"
   ]
  },
  {
   "cell_type": "code",
   "execution_count": 15,
   "id": "reported-water",
   "metadata": {},
   "outputs": [
    {
     "data": {
      "text/plain": [
       "False    508916\n",
       "True        320\n",
       "Name: over_18, dtype: int64"
      ]
     },
     "execution_count": 15,
     "metadata": {},
     "output_type": "execute_result"
    }
   ],
   "source": [
    "df['over_18'].value_counts()"
   ]
  },
  {
   "cell_type": "code",
   "execution_count": 16,
   "id": "ambient-geology",
   "metadata": {},
   "outputs": [
    {
     "data": {
      "text/plain": [
       "time_created    0\n",
       "date_created    0\n",
       "up_votes        0\n",
       "down_votes      0\n",
       "title           0\n",
       "over_18         0\n",
       "author          0\n",
       "category        0\n",
       "dtype: int64"
      ]
     },
     "execution_count": 16,
     "metadata": {},
     "output_type": "execute_result"
    }
   ],
   "source": [
    "df.isna().sum()"
   ]
  },
  {
   "cell_type": "markdown",
   "id": "physical-income",
   "metadata": {},
   "source": [
    "#### First findings\n",
    "\n",
    "Columns of 'down_votes' and 'category' contain no information. All of values on these columns are the same and there are no nans. Because of that, I will remove these columns, as they could only potentially produce noise and defintely would increase the dimension of the dataset, which could have adverse impacts on ML models that I will create."
   ]
  },
  {
   "cell_type": "code",
   "execution_count": 35,
   "id": "secure-recall",
   "metadata": {},
   "outputs": [],
   "source": [
    "df = df.drop(columns=['down_votes', 'category'])"
   ]
  },
  {
   "cell_type": "code",
   "execution_count": 31,
   "id": "equivalent-simon",
   "metadata": {},
   "outputs": [
    {
     "data": {
      "text/plain": [
       "Text(0, 0.5, 'Frequency')"
      ]
     },
     "execution_count": 31,
     "metadata": {},
     "output_type": "execute_result"
    },
    {
     "data": {
      "image/png": "[encoded data removed]",
      "text/plain": [
       "<Figure size 720x576 with 1 Axes>"
      ]
     },
     "metadata": {
      "needs_background": "light"
     },
     "output_type": "display_data"
    }
   ],
   "source": [
    "plt.figure()\n",
    "plt.hist(df['up_votes'], bins=20)\n",
    "plt.title(\"Distrbution over 'up_votes' variable\")\n",
    "plt.xlabel(\"'up_votes'\")\n",
    "plt.ylabel(\"Frequency\")"
   ]
  },
  {
   "cell_type": "markdown",
   "id": "colonial-monitor",
   "metadata": {},
   "source": [
    "As we can see, the distribution is heavily skewed. Most of the content generates only a few upvotes. There are some pieces that attract more positive engagement, however only very few garnered virality and amassed an outstanding number of upvotes. In fact, 75th percentile on up_votes variable is equal to only 16. This means that 75% of all videos got only 16 upvotes. Because of this heavy skewness, I will need to do something about the outliers. One thing that can be done is to remove them from the dataset completely. This, however, is not a preferential method for me, as there might be a lot of information hidden in those 'outlier' content pieces. Additionally, it is usually those outliers that generate the most traffic, content, and value, especially for digital companies (IG influencers, top artists on Spotify, best content and podcast creators on YT, etc). Because of that, I will want to examine them deeper. Thus, I will only 'crop' the data: whenever value of 'up_votes' column exceeds a certain number, I will change it to this particular number. I will choose 100 to be this threshold. "
   ]
  },
  {
   "cell_type": "code",
   "execution_count": 32,
   "id": "continued-lebanon",
   "metadata": {},
   "outputs": [
    {
     "data": {
      "text/plain": [
       "50215"
      ]
     },
     "execution_count": 32,
     "metadata": {},
     "output_type": "execute_result"
    }
   ],
   "source": [
    "len(df[df['up_votes']>100])"
   ]
  },
  {
   "cell_type": "code",
   "execution_count": 45,
   "id": "improved-helen",
   "metadata": {},
   "outputs": [
    {
     "data": {
      "text/plain": [
       "<matplotlib.legend.Legend at 0x7f846c253f90>"
      ]
     },
     "execution_count": 45,
     "metadata": {},
     "output_type": "execute_result"
    },
    {
     "data": {
      "image/png": "[encoded data removed]",
      "text/plain": [
       "<Figure size 720x576 with 1 Axes>"
      ]
     },
     "metadata": {
      "needs_background": "light"
     },
     "output_type": "display_data"
    }
   ],
   "source": [
    "crop_upvotes = lambda x: 101 if x > 100 else x\n",
    "df['up_votes'] = df['up_votes'].apply(crop_upvotes)\n",
    "plt.figure()\n",
    "plt.hist(df['up_votes'], bins=20)\n",
    "plt.title(\"Distrbution over 'up_votes' variable after cropping\")\n",
    "plt.xlabel(\"'up_votes'\")\n",
    "plt.ylabel(\"Frequency\")\n",
    "plt.axvline(np.mean(df['up_votes']), color='red', alpha=0.8, label=f\"Mean = {np.round(np.mean(df['up_votes']), 2)}\")\n",
    "plt.axvline(np.median(df['up_votes']), color='red', alpha=0.8, linestyle='--', label=f\"Median = {np.median(df['up_votes'])}\")\n",
    "plt.legend()"
   ]
  },
  {
   "cell_type": "code",
   "execution_count": 37,
   "id": "opening-interaction",
   "metadata": {},
   "outputs": [
    {
     "data": {
      "text/plain": [
       "count    509236.000000\n",
       "mean         18.623699\n",
       "std          31.160075\n",
       "min           0.000000\n",
       "25%           1.000000\n",
       "50%           5.000000\n",
       "75%          16.000000\n",
       "max         101.000000\n",
       "Name: up_votes, dtype: float64"
      ]
     },
     "execution_count": 37,
     "metadata": {},
     "output_type": "execute_result"
    }
   ],
   "source": [
    "df['up_votes'].describe()"
   ]
  },
  {
   "cell_type": "code",
   "execution_count": 50,
   "id": "renewable-target",
   "metadata": {},
   "outputs": [
    {
     "data": {
      "text/plain": [
       "Text(0.5, 1.0, 'Median # of upvotes per content type')"
      ]
     },
     "execution_count": 50,
     "metadata": {},
     "output_type": "execute_result"
    },
    {
     "data": {
      "image/png": "[encoded data removed]",
      "text/plain": [
       "<Figure size 720x576 with 2 Axes>"
      ]
     },
     "metadata": {
      "needs_background": "light"
     },
     "output_type": "display_data"
    }
   ],
   "source": [
    "# average and median number of upvotes for over_18\n",
    "avg_up_over = np.mean(df[df['over_18']==True]['up_votes'])\n",
    "avg_up_under = np.mean(df[df['over_18']==False]['up_votes'])\n",
    "median_up_over = np.median(df[df['over_18']==True]['up_votes'])\n",
    "median_up_under = np.median(df[df['over_18']==False]['up_votes'])\n",
    "\n",
    "vals = ('True', 'False')\n",
    "ys = np.arange(len(vals))\n",
    "plt.figure()\n",
    "\n",
    "plt.subplot(1,2,1)\n",
    "plt.bar(ys, [avg_up_over, avg_up_under], align='center')\n",
    "plt.xticks(ys, vals)\n",
    "plt.ylabel('over_18')\n",
    "plt.xlabel('Average # of upvotes')\n",
    "plt.title('Average # of upvotes per content type')\n",
    "\n",
    "plt.subplot(1,2,2)\n",
    "plt.bar(ys, [median_up_over, median_up_under], align='center')\n",
    "plt.xticks(ys, vals)\n",
    "plt.ylabel('over_18')\n",
    "plt.xlabel('Median # of upvotes')\n",
    "plt.title('Median # of upvotes per content type')"
   ]
  },
  {
   "cell_type": "markdown",
   "id": "organic-pride",
   "metadata": {},
   "source": [
    "As we can see, +18 content generates less positive engagement from the community. It might be for a couple of reasons. First, oolder audiences might be less likely to give out upvotes, as they might be more conservative with their judgement, or they might not want others to see that they are watching and liking 18+ content. Another reason could be the type of content that is labeled 18+. It could be the case that this type of content is, in general, less positive, sparking less of positive reactions. An example of such content could be reporting on war with pictures from the battlefield. The type of content (topics) will be examined futher in this notebook. Now, I will proceed with analyzing the authors. "
   ]
  },
  {
   "cell_type": "code",
   "execution_count": 103,
   "id": "attractive-consciousness",
   "metadata": {},
   "outputs": [
    {
     "data": {
      "text/html": [
       "<div>\n",
       "<style scoped>\n",
       "    .dataframe tbody tr th:only-of-type {\n",
       "        vertical-align: middle;\n",
       "    }\n",
       "\n",
       "    .dataframe tbody tr th {\n",
       "        vertical-align: top;\n",
       "    }\n",
       "\n",
       "    .dataframe thead tr th {\n",
       "        text-align: left;\n",
       "    }\n",
       "\n",
       "    .dataframe thead tr:last-of-type th {\n",
       "        text-align: right;\n",
       "    }\n",
       "</style>\n",
       "<table border=\"1\" class=\"dataframe\">\n",
       "  <thead>\n",
       "    <tr>\n",
       "      <th></th>\n",
       "      <th colspan=\"2\" halign=\"left\">up_votes</th>\n",
       "    </tr>\n",
       "    <tr>\n",
       "      <th></th>\n",
       "      <th>count</th>\n",
       "      <th>mean</th>\n",
       "    </tr>\n",
       "    <tr>\n",
       "      <th>author</th>\n",
       "      <th></th>\n",
       "      <th></th>\n",
       "    </tr>\n",
       "  </thead>\n",
       "  <tbody>\n",
       "    <tr>\n",
       "      <th>davidreiss666</th>\n",
       "      <td>8897</td>\n",
       "      <td>13.964258</td>\n",
       "    </tr>\n",
       "    <tr>\n",
       "      <th>anutensil</th>\n",
       "      <td>5730</td>\n",
       "      <td>38.278185</td>\n",
       "    </tr>\n",
       "    <tr>\n",
       "      <th>DoremusJessup</th>\n",
       "      <td>5037</td>\n",
       "      <td>21.363907</td>\n",
       "    </tr>\n",
       "    <tr>\n",
       "      <th>maxwellhill</th>\n",
       "      <td>4023</td>\n",
       "      <td>53.922695</td>\n",
       "    </tr>\n",
       "    <tr>\n",
       "      <th>igeldard</th>\n",
       "      <td>4013</td>\n",
       "      <td>7.695240</td>\n",
       "    </tr>\n",
       "    <tr>\n",
       "      <th>readerseven</th>\n",
       "      <td>3170</td>\n",
       "      <td>13.959937</td>\n",
       "    </tr>\n",
       "    <tr>\n",
       "      <th>twolf1</th>\n",
       "      <td>2923</td>\n",
       "      <td>15.779336</td>\n",
       "    </tr>\n",
       "    <tr>\n",
       "      <th>madam1</th>\n",
       "      <td>2658</td>\n",
       "      <td>24.252822</td>\n",
       "    </tr>\n",
       "    <tr>\n",
       "      <th>nimobo</th>\n",
       "      <td>2564</td>\n",
       "      <td>19.350234</td>\n",
       "    </tr>\n",
       "    <tr>\n",
       "      <th>madazzahatter</th>\n",
       "      <td>2503</td>\n",
       "      <td>25.051938</td>\n",
       "    </tr>\n",
       "  </tbody>\n",
       "</table>\n",
       "</div>"
      ],
      "text/plain": [
       "              up_votes           \n",
       "                 count       mean\n",
       "author                           \n",
       "davidreiss666     8897  13.964258\n",
       "anutensil         5730  38.278185\n",
       "DoremusJessup     5037  21.363907\n",
       "maxwellhill       4023  53.922695\n",
       "igeldard          4013   7.695240\n",
       "readerseven       3170  13.959937\n",
       "twolf1            2923  15.779336\n",
       "madam1            2658  24.252822\n",
       "nimobo            2564  19.350234\n",
       "madazzahatter     2503  25.051938"
      ]
     },
     "execution_count": 103,
     "metadata": {},
     "output_type": "execute_result"
    }
   ],
   "source": [
    "author_grouped = df[['up_votes']].groupby(df['author']).agg(['count', 'mean']).sort_values(('up_votes', 'count'), ascending=False)\n",
    "author_grouped[:10]"
   ]
  },
  {
   "cell_type": "code",
   "execution_count": 91,
   "id": "precise-marketing",
   "metadata": {},
   "outputs": [
    {
     "data": {
      "text/plain": [
       "<matplotlib.legend.Legend at 0x7f846c127f50>"
      ]
     },
     "execution_count": 91,
     "metadata": {},
     "output_type": "execute_result"
    },
    {
     "data": {
      "image/png": "[encoded data removed]",
      "text/plain": [
       "<Figure size 720x576 with 1 Axes>"
      ]
     },
     "metadata": {
      "needs_background": "light"
     },
     "output_type": "display_data"
    }
   ],
   "source": [
    "plt.figure()\n",
    "plt.hist(author_grouped['up_votes', 'count'], bins=20)\n",
    "plt.title(\"Distrbution over number of posts per user\")\n",
    "plt.xlabel(\"# of posts\")\n",
    "plt.ylabel(\"Frequency\")\n",
    "plt.axvline(np.mean(author_grouped['up_votes', 'count']), color='red', alpha=0.8, label=f\"Mean = {np.round(np.mean(author_grouped['up_votes', 'count']), 2)}\")\n",
    "plt.axvline(np.median(author_grouped['up_votes', 'count']), color='red', alpha=0.8, linestyle='--', label=f\"Median = {np.median(author_grouped['up_votes', 'count'])}\")\n",
    "plt.legend()"
   ]
  },
  {
   "cell_type": "markdown",
   "id": "agreed-three",
   "metadata": {},
   "source": [
    "As we can see, the vast majority of users post only one video. It is only a handful of individuals who are proliferate content creators."
   ]
  },
  {
   "cell_type": "code",
   "execution_count": 101,
   "id": "quiet-shower",
   "metadata": {},
   "outputs": [
    {
     "name": "stdout",
     "output_type": "stream",
     "text": [
      "Number of authors who posted more than once: 31198\n",
      "% of authors who posted more than once: 36.35\n",
      "\n",
      "Number of authors who posted more than 10 times: 5750\n",
      "% of authors who posted more than 10 times: 6.7\n",
      "\n",
      "Number of authors who posted more than 50 times: 1290\n",
      "% of authors who posted more than 50 times: 1.5\n",
      "\n",
      "Number of authors who posted more than 100 times: 592\n",
      "% of authors who posted more than 100 times: 0.69\n"
     ]
    }
   ],
   "source": [
    "print(\"Number of authors who posted more than once:\", sum(author_grouped['up_votes', 'count']>1))\n",
    "print(\"% of authors who posted more than once:\", np.round((sum(author_grouped['up_votes', 'count']>1)/len(author_grouped['up_votes', 'count']))*100, 2))\n",
    "print()\n",
    "print(\"Number of authors who posted more than 10 times:\", sum(author_grouped['up_votes', 'count']>10))\n",
    "print(\"% of authors who posted more than 10 times:\", np.round((sum(author_grouped['up_votes', 'count']>10)/len(author_grouped['up_votes', 'count']))*100, 2))\n",
    "print()\n",
    "print(\"Number of authors who posted more than 50 times:\", sum(author_grouped['up_votes', 'count']>50))\n",
    "print(\"% of authors who posted more than 50 times:\", np.round((sum(author_grouped['up_votes', 'count']>50)/len(author_grouped['up_votes', 'count']))*100, 2))\n",
    "print()\n",
    "print(\"Number of authors who posted more than 100 times:\", sum(author_grouped['up_votes', 'count']>100))\n",
    "print(\"% of authors who posted more than 100 times:\", np.round((sum(author_grouped['up_votes', 'count']>100)/len(author_grouped['up_votes', 'count']))*100, 2))"
   ]
  },
  {
   "cell_type": "code",
   "execution_count": 120,
   "id": "latest-provincial",
   "metadata": {},
   "outputs": [
    {
     "name": "stdout",
     "output_type": "stream",
     "text": [
      "Number of users that have shared more than 50 videos: 1290\n",
      "% of content generated by the top 1.5% of the most proliferate users: 52.66\n"
     ]
    }
   ],
   "source": [
    "# How much content do the users who have shared more than 50 videos generate?\n",
    "# I assume that this most proliferate 1.5% of authors generate a vast majority of content shared on Eluvio\n",
    "# getting the number of users that generated more than 50 videos\n",
    "n_top_users = (sum(author_grouped['up_votes', 'count']>50))\n",
    "print(\"Number of users that have shared more than 50 videos:\", n_top_users)\n",
    "proliferate_users = list(author_grouped.index[:n_top_users])\n",
    "df['by_proliferate_user'] = df['author'].apply(lambda x: True if x in proliferate_users else 0)\n",
    "print(f\"% of content generated by the top 1.5% of the most proliferate users: {np.round((sum(df['by_proliferate_user'])/len(df)*100), 2)}\")\n",
    "df = df.drop(columns=['by_proliferate_user'])"
   ]
  },
  {
   "cell_type": "markdown",
   "id": "bacterial-wisdom",
   "metadata": {},
   "source": [
    "Given the finding above, I want to know whether being a proliferate author increases one's chance of having a viral post. I label an author as 'proliferate' when their total number of posts exceeds 50 and a viral post as one that has more than 100 upvotes. There arises a question of how the label for being proliferate or no should be given. First approach would be to give it to each author that has +50 videos in the entire dataset. Second approach would be to give that label only when the number of videos published until the time of publishing is above 50. The second option seems more reasonable, as with the first method we would be introducing a form of lookahead bias: in reality, we do not know if any given author will go on and post more than 50 times before they actually do. The number of upvotes received might be a certain predictor of that (and other variables, not included in this dataset), however the principle still holds and we should avoid introducing any biases into the dataset. Because of that, I will use the second approach."
   ]
  },
  {
   "cell_type": "code",
   "execution_count": 129,
   "id": "recognized-pipeline",
   "metadata": {},
   "outputs": [
    {
     "name": "stdout",
     "output_type": "stream",
     "text": [
      "Average number of upvotes by proliferate authors: 19.706577328451356\n",
      "Average number of upvotes by non-proliferate authors: 17.909528480507333\n",
      "% of videos posted by proliferate users that went viral: 10.383096893421683\n",
      "% of videos posted by non-proliferate users that went viral: 9.516422852189441\n"
     ]
    }
   ],
   "source": [
    "df['posted_before'] = df.groupby('author').cumcount()\n",
    "df['proliferate'] = df['posted_before']>50\n",
    "\n",
    "proliferate_true = df[df['proliferate']==True]\n",
    "proliferate_false = df[df['proliferate']==False]\n",
    "\n",
    "print(\"Average number of upvotes by proliferate authors:\", np.mean(proliferate_true['up_votes']))\n",
    "print(\"Average number of upvotes by non-proliferate authors:\", np.mean(proliferate_false['up_votes']))\n",
    "\n",
    "print(\"% of videos posted by proliferate users that went viral:\", 100*(len(proliferate_true[proliferate_true['up_votes']>100])/len(proliferate_true)))\n",
    "print(\"% of videos posted by non-proliferate users that went viral:\", 100*(len(proliferate_false[proliferate_false['up_votes']>100])/len(proliferate_false)))"
   ]
  },
  {
   "cell_type": "markdown",
   "id": "measured-murder",
   "metadata": {},
   "source": [
    "It seems like the users who have experience with publishing videos get more upvotes and have a higher likelihood of their post going viral. To confirm it, I use statistical hypothesis testing. In particular, I use the Kolmogorov-Smirnov test on 2 samples. This test tells us if the 2 samples are generated from the same underlying distribution (althugh it does not specfy what this distribution is). I do not use the most popular T-test statistic as it assumes that the data comes from a normal distribution and I have already observed that this is not the case."
   ]
  },
  {
   "cell_type": "code",
   "execution_count": 134,
   "id": "revolutionary-jason",
   "metadata": {},
   "outputs": [
    {
     "name": "stdout",
     "output_type": "stream",
     "text": [
      "p-value = 9.28891336598074e-269\n",
      "Difference in distributions is statistically significant\n"
     ]
    }
   ],
   "source": [
    "from scipy.stats import ks_2samp\n",
    "\n",
    "ks_stat, p = ks_2samp(proliferate_true['up_votes'], proliferate_false['up_votes'])\n",
    "\n",
    "print('p-value =', p)\n",
    "\n",
    "if p > 0.05:\n",
    "\tprint('Difference in distributions is not statistically significant')\n",
    "else:\n",
    "\tprint('Difference in distributions is statistically significant')"
   ]
  },
  {
   "cell_type": "markdown",
   "id": "instrumental-purpose",
   "metadata": {},
   "source": [
    "Now, I want to observe how the probability of having a viral video scales as a function of the number of posts published by the author. The best way to learn about this propety of the data is to plot it. I will do just that below."
   ]
  },
  {
   "cell_type": "code",
   "execution_count": 176,
   "id": "sunset-associate",
   "metadata": {},
   "outputs": [
    {
     "name": "stdout",
     "output_type": "stream",
     "text": [
      "Slope of the line of best fit: -3.985619807922986e-06\n"
     ]
    },
    {
     "data": {
      "text/plain": [
       "Text(0.5, 1.0, 'Mean % of viral videos as a function of the number of videos posted before by the user')"
      ]
     },
     "execution_count": 176,
     "metadata": {},
     "output_type": "execute_result"
    },
    {
     "data": {
      "image/png": "[encoded data removed]",
      "text/plain": [
       "<Figure size 720x576 with 1 Axes>"
      ]
     },
     "metadata": {
      "needs_background": "light"
     },
     "output_type": "display_data"
    }
   ],
   "source": [
    "# creating a labele for our metric of interest\n",
    "df['viral'] = df['up_votes']>100\n",
    "\n",
    "# for the purposes of visualizations, I will put a cap on the number of videos shared\n",
    "# if a user has shared more than 100 posts, I will crop his/her total number to be 101\n",
    "crop_posts = lambda x: 101 if x > 100 else x\n",
    "df['posted_before'] = df['posted_before'].apply(crop_posts)\n",
    "\n",
    "# groupby function to obtain the mean number of viral posts per a group of users with the same number of posts shared before\n",
    "dff = df[['viral']].groupby(df['posted_before']).agg(['sum', 'count', 'mean'])\n",
    "\n",
    "xs = np.array(dff.index)\n",
    "ys = np.array(dff[('viral', 'mean')])\n",
    "m, b = np.polyfit(xs, ys, 1)\n",
    "\n",
    "print(\"Slope of the line of best fit:\", m)\n",
    "plt.figure()\n",
    "plt.plot(xs, ys)\n",
    "plt.plot(xs, m*xs + b)\n",
    "plt.title(\"Mean % of viral videos as a function of the number of videos posted before by the user\")\n"
   ]
  },
  {
   "cell_type": "markdown",
   "id": "completed-utility",
   "metadata": {},
   "source": [
    "There doesn't seem to be much strict correlation between the number of posts by author (their experience) and the probability of getting a viral post. "
   ]
  },
  {
   "cell_type": "markdown",
   "id": "wound-advice",
   "metadata": {},
   "source": [
    "#### Time analysis"
   ]
  },
  {
   "cell_type": "code",
   "execution_count": 181,
   "id": "acoustic-director",
   "metadata": {},
   "outputs": [
    {
     "data": {
      "text/html": [
       "<div>\n",
       "<style scoped>\n",
       "    .dataframe tbody tr th:only-of-type {\n",
       "        vertical-align: middle;\n",
       "    }\n",
       "\n",
       "    .dataframe tbody tr th {\n",
       "        vertical-align: top;\n",
       "    }\n",
       "\n",
       "    .dataframe thead th {\n",
       "        text-align: right;\n",
       "    }\n",
       "</style>\n",
       "<table border=\"1\" class=\"dataframe\">\n",
       "  <thead>\n",
       "    <tr style=\"text-align: right;\">\n",
       "      <th></th>\n",
       "      <th>time_created</th>\n",
       "      <th>date_created</th>\n",
       "      <th>up_votes</th>\n",
       "      <th>title</th>\n",
       "      <th>over_18</th>\n",
       "      <th>author</th>\n",
       "      <th>posted_before</th>\n",
       "      <th>proliferate</th>\n",
       "      <th>viral</th>\n",
       "      <th>timestamp</th>\n",
       "    </tr>\n",
       "  </thead>\n",
       "  <tbody>\n",
       "    <tr>\n",
       "      <th>0</th>\n",
       "      <td>1201232046</td>\n",
       "      <td>2008-01-25</td>\n",
       "      <td>3</td>\n",
       "      <td>Scores killed in Pakistan clashes</td>\n",
       "      <td>False</td>\n",
       "      <td>polar</td>\n",
       "      <td>0</td>\n",
       "      <td>False</td>\n",
       "      <td>False</td>\n",
       "      <td>2008-01-25 03:34:06</td>\n",
       "    </tr>\n",
       "    <tr>\n",
       "      <th>1</th>\n",
       "      <td>1201232075</td>\n",
       "      <td>2008-01-25</td>\n",
       "      <td>2</td>\n",
       "      <td>Japan resumes refuelling mission</td>\n",
       "      <td>False</td>\n",
       "      <td>polar</td>\n",
       "      <td>1</td>\n",
       "      <td>False</td>\n",
       "      <td>False</td>\n",
       "      <td>2008-01-25 03:34:35</td>\n",
       "    </tr>\n",
       "    <tr>\n",
       "      <th>2</th>\n",
       "      <td>1201232523</td>\n",
       "      <td>2008-01-25</td>\n",
       "      <td>3</td>\n",
       "      <td>US presses Egypt on Gaza border</td>\n",
       "      <td>False</td>\n",
       "      <td>polar</td>\n",
       "      <td>2</td>\n",
       "      <td>False</td>\n",
       "      <td>False</td>\n",
       "      <td>2008-01-25 03:42:03</td>\n",
       "    </tr>\n",
       "    <tr>\n",
       "      <th>3</th>\n",
       "      <td>1201233290</td>\n",
       "      <td>2008-01-25</td>\n",
       "      <td>1</td>\n",
       "      <td>Jump-start economy: Give health care to all</td>\n",
       "      <td>False</td>\n",
       "      <td>fadi420</td>\n",
       "      <td>0</td>\n",
       "      <td>False</td>\n",
       "      <td>False</td>\n",
       "      <td>2008-01-25 03:54:50</td>\n",
       "    </tr>\n",
       "    <tr>\n",
       "      <th>4</th>\n",
       "      <td>1201274720</td>\n",
       "      <td>2008-01-25</td>\n",
       "      <td>4</td>\n",
       "      <td>Council of Europe bashes EU&amp;UN terror blacklist</td>\n",
       "      <td>False</td>\n",
       "      <td>mhermans</td>\n",
       "      <td>0</td>\n",
       "      <td>False</td>\n",
       "      <td>False</td>\n",
       "      <td>2008-01-25 15:25:20</td>\n",
       "    </tr>\n",
       "  </tbody>\n",
       "</table>\n",
       "</div>"
      ],
      "text/plain": [
       "   time_created date_created  up_votes  \\\n",
       "0    1201232046   2008-01-25         3   \n",
       "1    1201232075   2008-01-25         2   \n",
       "2    1201232523   2008-01-25         3   \n",
       "3    1201233290   2008-01-25         1   \n",
       "4    1201274720   2008-01-25         4   \n",
       "\n",
       "                                             title  over_18    author  \\\n",
       "0                Scores killed in Pakistan clashes    False     polar   \n",
       "1                 Japan resumes refuelling mission    False     polar   \n",
       "2                  US presses Egypt on Gaza border    False     polar   \n",
       "3     Jump-start economy: Give health care to all     False   fadi420   \n",
       "4  Council of Europe bashes EU&UN terror blacklist    False  mhermans   \n",
       "\n",
       "   posted_before  proliferate  viral           timestamp  \n",
       "0              0        False  False 2008-01-25 03:34:06  \n",
       "1              1        False  False 2008-01-25 03:34:35  \n",
       "2              2        False  False 2008-01-25 03:42:03  \n",
       "3              0        False  False 2008-01-25 03:54:50  \n",
       "4              0        False  False 2008-01-25 15:25:20  "
      ]
     },
     "execution_count": 181,
     "metadata": {},
     "output_type": "execute_result"
    }
   ],
   "source": [
    "df['timestamp'] = pd.to_datetime(df['time_created'], unit='s')\n",
    "df.head()"
   ]
  },
  {
   "cell_type": "code",
   "execution_count": 182,
   "id": "southeast-slovenia",
   "metadata": {},
   "outputs": [],
   "source": [
    "# time_created and date_created columns basically contain the same information but time_created is more accurate\n",
    "# I converted the time_created into the timestamp format from which we can derive more information than from the integer timestamp\n",
    "# I will remove the remaining time_created and date_created columns as they are redundant now\n",
    "df = df.drop(columns=['time_created', 'date_created'])"
   ]
  },
  {
   "cell_type": "code",
   "execution_count": 186,
   "id": "regular-realtor",
   "metadata": {},
   "outputs": [
    {
     "data": {
      "text/plain": [
       "Text(0.5, 1.0, 'Total number of upvotes in a year (user engagement with Eluvio)')"
      ]
     },
     "execution_count": 186,
     "metadata": {},
     "output_type": "execute_result"
    },
    {
     "data": {
      "image/png": "[encoded data removed]",
      "text/plain": [
       "<Figure size 864x576 with 1 Axes>"
      ]
     },
     "metadata": {
      "needs_background": "light"
     },
     "output_type": "display_data"
    }
   ],
   "source": [
    "years = ['2008', '2009', '2010', '2011', '2012', '2013', '2014', '2015', '2016']\n",
    "dff = df.groupby(pd.Grouper(key='timestamp',freq='Y')).sum()\n",
    "\n",
    "plt.figure(figsize=[12,8])\n",
    "plt.bar(years, dff['up_votes'], width=0.5)\n",
    "plt.title(\"Total number of upvotes in a year (user engagement with Eluvio)\")"
   ]
  },
  {
   "cell_type": "markdown",
   "id": "median-straight",
   "metadata": {},
   "source": [
    "This graph represents the steady graph of the company in terms of user engagement. Each subsequent year, the company experiences more engagement from the users, which is na evidence of their satisfaction with the product. 2016 has a lower value than 2015 because the last month of 2016 was missing from the data."
   ]
  },
  {
   "cell_type": "code",
   "execution_count": 200,
   "id": "announced-bullet",
   "metadata": {},
   "outputs": [
    {
     "data": {
      "text/plain": [
       "Text(0.5, 1.0, 'Average number of upvotes for videos posted in a given month')"
      ]
     },
     "execution_count": 200,
     "metadata": {},
     "output_type": "execute_result"
    },
    {
     "data": {
      "image/png": "[encoded data removed]",
      "text/plain": [
       "<Figure size 864x576 with 1 Axes>"
      ]
     },
     "metadata": {
      "needs_background": "light"
     },
     "output_type": "display_data"
    }
   ],
   "source": [
    "months = ['Jan', 'Feb', 'Mar', \"Apr\", \"May\", \"Jun\", \"Jul\", \"Aug\", 'Sep', 'Oct', 'Nov', 'Dec']\n",
    "\n",
    "df['month'] = df['timestamp'].apply(lambda x: x.month)\n",
    "\n",
    "dff = df[['up_votes', 'viral']].groupby(df['month']).agg(['sum', 'count', 'mean'])\n",
    "\n",
    "plt.figure(figsize=[12,8])\n",
    "plt.bar(months, dff['up_votes']['mean'].values.tolist(), width=0.5)\n",
    "plt.title(\"Average number of upvotes for videos posted in a given month\")"
   ]
  },
  {
   "cell_type": "code",
   "execution_count": 201,
   "id": "reliable-tackle",
   "metadata": {},
   "outputs": [
    {
     "data": {
      "text/plain": [
       "Text(0.5, 1.0, 'Average % of viral posts for videos posted in a given month')"
      ]
     },
     "execution_count": 201,
     "metadata": {},
     "output_type": "execute_result"
    },
    {
     "data": {
      "image/png": "[encoded data removed]",
      "text/plain": [
       "<Figure size 864x576 with 1 Axes>"
      ]
     },
     "metadata": {
      "needs_background": "light"
     },
     "output_type": "display_data"
    }
   ],
   "source": [
    "plt.figure(figsize=[12,8])\n",
    "plt.bar(months, dff['viral']['mean'].values.tolist(), width=0.5)\n",
    "plt.title(\"Average % of viral posts for videos posted in a given month\")"
   ]
  },
  {
   "cell_type": "markdown",
   "id": "secret-mustang",
   "metadata": {},
   "source": [
    "No significant irregularities observed in the distribution of user engagement over months"
   ]
  },
  {
   "cell_type": "code",
   "execution_count": 223,
   "id": "defined-stations",
   "metadata": {},
   "outputs": [
    {
     "data": {
      "text/plain": [
       "Text(0.5, 1.0, 'Average number of upvotes for videos posted in a given day of the week')"
      ]
     },
     "execution_count": 223,
     "metadata": {},
     "output_type": "execute_result"
    },
    {
     "data": {
      "image/png": "[encoded data removed]",
      "text/plain": [
       "<Figure size 864x576 with 1 Axes>"
      ]
     },
     "metadata": {
      "needs_background": "light"
     },
     "output_type": "display_data"
    }
   ],
   "source": [
    "days_list = ['Monday', 'Tuesday', 'Wednesday', \"Thursday\", \"Friday\", \"Saturday\", \"Sunday\"]\n",
    "\n",
    "df['day_of_week'] = df['timestamp'].apply(lambda x: x.weekday())\n",
    "\n",
    "dff = df[['up_votes', 'viral']].groupby(df['day_of_week']).agg(['sum', 'count', 'mean'])\n",
    "\n",
    "plt.figure(figsize=[12,8])\n",
    "plt.bar(days_list, dff['up_votes']['mean'].tolist(), width=0.5)\n",
    "plt.title(\"Average number of upvotes for videos posted in a given day of the week\")"
   ]
  },
  {
   "cell_type": "code",
   "execution_count": 224,
   "id": "religious-wings",
   "metadata": {},
   "outputs": [
    {
     "data": {
      "text/plain": [
       "Text(0.5, 1.0, 'Average % of viral posts for videos posted in a given week day')"
      ]
     },
     "execution_count": 224,
     "metadata": {},
     "output_type": "execute_result"
    },
    {
     "data": {
      "image/png": "[encoded data removed]",
      "text/plain": [
       "<Figure size 864x576 with 1 Axes>"
      ]
     },
     "metadata": {
      "needs_background": "light"
     },
     "output_type": "display_data"
    }
   ],
   "source": [
    "plt.figure(figsize=[12,8])\n",
    "plt.bar(days_list, dff['viral']['mean'].tolist(), width=0.5)\n",
    "plt.title(\"Average % of viral posts for videos posted in a given week day\")"
   ]
  },
  {
   "cell_type": "markdown",
   "id": "likely-electronics",
   "metadata": {},
   "source": [
    "Based on the above two graphs, we can see that sharing a video overr the weekend significantly increases the chance of that video getting viral and receiving more upvotes. It is expected; durign the weekends, people usually have more free time and some choose to consume more online content. I will create a new column that checks if the video was posted on one of those two peak days."
   ]
  },
  {
   "cell_type": "code",
   "execution_count": 390,
   "id": "adaptive-carolina",
   "metadata": {},
   "outputs": [
    {
     "name": "stderr",
     "output_type": "stream",
     "text": [
      "`should_run_async` will not call `transform_cell` automatically in the future. Please pass the result to `transformed_cell` argument and any exception that happen during thetransform in `preprocessing_exc_tuple` in IPython 7.17 and above.\n"
     ]
    }
   ],
   "source": [
    "df['is_weekend'] = df['day_of_week'].apply(lambda x: x in [5,6])"
   ]
  },
  {
   "cell_type": "code",
   "execution_count": 234,
   "id": "occupied-deposit",
   "metadata": {},
   "outputs": [
    {
     "data": {
      "text/plain": [
       "Text(0.5, 0, 'Average % of viral videos')"
      ]
     },
     "execution_count": 234,
     "metadata": {},
     "output_type": "execute_result"
    },
    {
     "data": {
      "image/png": "[encoded data removed]",
      "text/plain": [
       "<Figure size 720x576 with 2 Axes>"
      ]
     },
     "metadata": {
      "needs_background": "light"
     },
     "output_type": "display_data"
    }
   ],
   "source": [
    "# Select country\n",
    "us_holidays = holidays.US()\n",
    "\n",
    "df['is_holiday'] = df['timestamp'].apply(lambda x: x in us_holidays)\n",
    "\n",
    "# average and median number of upvotes for over_18\n",
    "avg_viral_holidays = np.mean(df[df['is_holiday']==True]['viral'])\n",
    "avg_viral_regular = np.mean(df[df['is_holiday']==False]['viral'])\n",
    "avg_upvotes_holidays = np.mean(df[df['is_holiday']==True]['up_votes'])\n",
    "avg_upvotes_regular = np.mean(df[df['is_holiday']==False]['up_votes'])\n",
    "\n",
    "vals = ('Holidays', 'Regular')\n",
    "ys = np.arange(len(vals))\n",
    "plt.figure()\n",
    "\n",
    "plt.subplot(1,2,1)\n",
    "plt.bar(ys, [avg_upvotes_holidays, avg_upvotes_regular], align='center')\n",
    "plt.xticks(ys, vals)\n",
    "plt.ylabel('Upvotes')\n",
    "plt.xlabel('Average # of upvotes')\n",
    "\n",
    "plt.subplot(1,2,2)\n",
    "plt.bar(ys, [avg_viral_holidays, avg_viral_regular], align='center')\n",
    "plt.xticks(ys, vals)\n",
    "plt.ylabel('% of viral videos')\n",
    "plt.xlabel('Average % of viral videos')"
   ]
  },
  {
   "cell_type": "markdown",
   "id": "potential-valuable",
   "metadata": {},
   "source": [
    "Similarly to theo nes posted on the weekend, the videos that are shared on holidays get more upvotes on average and are more likely to become viral"
   ]
  },
  {
   "cell_type": "markdown",
   "id": "worth-supply",
   "metadata": {},
   "source": [
    "## NLP"
   ]
  },
  {
   "cell_type": "markdown",
   "id": "elegant-diabetes",
   "metadata": {},
   "source": [
    "### Latent Dirichlet Allocation (LDA)\n",
    "\n",
    "LDA is an NLP algorithm for topic modelling. LDA assumes that each document can be represented as a mixture of topics and that each topic spits out random words with certain probabilities. For instance, a legal document might be 65% legal, 25% financial and 5% ethical. Within each of those topics, all of the words in english dictionary (or any other language for that matter) have a certain probability of getting drawn. Thus, the text is just a result of probabilistic random words generation. LDA strives to find such mixtures of topics and word probabilities within them so that the generation of a text similar to the one observed (in the training set) has the highest likelihood. \n",
    "\n",
    "We can use LDA for topic modelling. This unsupervised learning technique helps us understand what are the main distinctive topics that are present in the text. In our case, that represents different topics of the videos. One hope for the algorithm's output is that it will distinguish political news from economical news or distinguish the topics to represent different world regions that the videos report on."
   ]
  },
  {
   "cell_type": "code",
   "execution_count": 313,
   "id": "desirable-organic",
   "metadata": {},
   "outputs": [
    {
     "name": "stderr",
     "output_type": "stream",
     "text": [
      "`should_run_async` will not call `transform_cell` automatically in the future. Please pass the result to `transformed_cell` argument and any exception that happen during thetransform in `preprocessing_exc_tuple` in IPython 7.17 and above.\n",
      "The default value of regex will change from True to False in a future version. In addition, single character regular expressions will*not* be treated as literal strings when regex=True.\n"
     ]
    }
   ],
   "source": [
    "# data pre-processing\n",
    "df['title_cleaned'] = df['title'].str.replace(\"\\r\", \" \")\n",
    "df['title_cleaned'] = df['title_cleaned'].str.replace(\"\\n\", \" \")\n",
    "df['title_cleaned'] = df['title_cleaned'].str.replace(\"    \", \" \")\n",
    "# \" when quoting text\n",
    "df['title_cleaned'] = df['title_cleaned'].str.replace('\"', '')\n",
    "# lowercase\n",
    "df['title_cleaned'] = df['title_cleaned'].str.lower()\n",
    "# punctuation signs\n",
    "punctuation_signs = list(\"?:!.,;\")\n",
    "\n",
    "for punct_sign in punctuation_signs:\n",
    "    df['title_cleaned'] = df['title_cleaned'].str.replace(punct_sign, '')\n",
    "    \n",
    "# possessve pronouns\n",
    "df['title_cleaned'] = df['title_cleaned'].str.replace(\"'s\", \"\")\n",
    "\n",
    "words = df['title_cleaned'].values.tolist()\n",
    "words = ' '.join(words)\n",
    "\n",
    "text_tokens = word_tokenize(words)\n",
    "\n",
    "tokens_without_sw = [word for word in text_tokens if not word in stopwords.words()]\n",
    "    "
   ]
  },
  {
   "cell_type": "code",
   "execution_count": null,
   "id": "behind-signal",
   "metadata": {},
   "outputs": [],
   "source": [
    "import warnings\n",
    "warnings.filterwarnings('ignore')"
   ]
  },
  {
   "cell_type": "code",
   "execution_count": 314,
   "id": "limiting-knitting",
   "metadata": {},
   "outputs": [
    {
     "name": "stderr",
     "output_type": "stream",
     "text": [
      "`should_run_async` will not call `transform_cell` automatically in the future. Please pass the result to `transformed_cell` argument and any exception that happen during thetransform in `preprocessing_exc_tuple` in IPython 7.17 and above.\n"
     ]
    },
    {
     "name": "stdout",
     "output_type": "stream",
     "text": [
      "Top 10 words for Topic #1\n",
      "['saudi', 'iraq', 'death', 'chinese', 'years', 'attack', 'killed', 'government', 'new']\n",
      "\n",
      "\n",
      "Top 10 words for Topic #2\n",
      "['islamic', 'dead', 'egypt', 'japan', 'isis', 'korea', 'south', 'north', 'world']\n",
      "\n",
      "\n",
      "Top 10 words for Topic #3\n",
      "['leader', 'court', 'country', 'israeli', 'ukraine', 'said', 'minister', 'news', 'russian']\n",
      "\n",
      "\n",
      "Top 10 words for Topic #4\n",
      "['say', 'report', 'turkey', 'nuclear', 'india', 'uk', 'state', 'police', 'syria']\n",
      "\n",
      "\n",
      "Top 10 words for Topic #5\n",
      "['gaza', 'british', 'attacks', 'pakistan', 'syrian', 'year', 'military', 'people', 'iran']\n",
      "\n",
      "\n"
     ]
    }
   ],
   "source": [
    "lda = LatentDirichletAllocation(n_components=5)\n",
    "cv = CountVectorizer(max_df = 0.97, min_df = 0.001, stop_words = 'english')\n",
    "\n",
    "words_vect = cv.fit_transform(tokens_without_sw)\n",
    "lda.fit(words_vect)\n",
    "transformed_text = lda.transform(words_vect)\n",
    "# Printing components\n",
    "for index, topic in enumerate(lda.components_):\n",
    "    print(f'Top {no_top_words} words for Topic #{index+1}')\n",
    "    print([cv.get_feature_names()[i] for i in topic.argsort()[-no_top_words:-1]])\n",
    "    print('\\n')"
   ]
  },
  {
   "cell_type": "markdown",
   "id": "korean-nickel",
   "metadata": {},
   "source": [
    "The top words from eahc of the identified topic seem to be quite similar although slightly different. Given that all of the videos are from the worldnews category, it is expected that the LDA-inferred topic representations will not be much different. However, we can for instance see that the third topic is much less violent than the remaining ones. Observing the differences in those topics would, however, be much more feasible if we had a visual representation. This can be done using the pyLDAvis package. The library shows each topic as a bubble on a 2-dimensional graph where the distance represnts the differences in topics. On the right hand side of the visualization, there is the distirbution of the most frequent words in that particular, highlighted topic. "
   ]
  },
  {
   "cell_type": "code",
   "execution_count": 316,
   "id": "noticed-enemy",
   "metadata": {},
   "outputs": [
    {
     "name": "stderr",
     "output_type": "stream",
     "text": [
      "`should_run_async` will not call `transform_cell` automatically in the future. Please pass the result to `transformed_cell` argument and any exception that happen during thetransform in `preprocessing_exc_tuple` in IPython 7.17 and above.\n"
     ]
    },
    {
     "data": {
      "text/html": [
       "\n",
       "<link rel=\"stylesheet\" type=\"text/css\" href=\"https://cdn.jsdelivr.net/gh/bmabey/pyLDAvis@3.2.2/pyLDAvis/js/ldavis.v1.0.0.css\">\n",
       "\n",
       "\n",
       "<div id=\"ldavis_el20838140206284537296523635988\"></div>\n",
       "<script type=\"text/javascript\">\n",
       "\n",
       "var ldavis_el20838140206284537296523635988_data = {\"mdsDat\": {\"x\": [-0.19274068566635522, 0.42892430422989875, -0.08996914334706858, -0.06513269859168397, -0.08108177662479102], \"y\": [0.37122966151699394, 0.07927166022988827, -0.2865627659417222, -0.09559913966534277, -0.06833941613981782], \"topics\": [1, 2, 3, 4, 5], \"cluster\": [1, 1, 1, 1, 1], \"Freq\": [21.68142177792223, 20.111013428733852, 20.038686936786153, 19.476812428849712, 18.69206542770806]}, \"tinfo\": {\"Term\": [\"says\", \"china\", \"new\", \"russia\", \"world\", \"president\", \"israel\", \"syria\", \"iran\", \"government\", \"people\", \"police\", \"killed\", \"russian\", \"attack\", \"news\", \"military\", \"minister\", \"year\", \"said\", \"state\", \"ukraine\", \"north\", \"south\", \"korea\", \"syrian\", \"uk\", \"israeli\", \"country\", \"court\", \"china\", \"syria\", \"police\", \"state\", \"uk\", \"india\", \"nuclear\", \"turkey\", \"report\", \"say\", \"forces\", \"deal\", \"rights\", \"germany\", \"women\", \"officials\", \"protest\", \"troops\", \"al\", \"day\", \"law\", \"video\", \"protests\", \"palestinian\", \"calls\", \"border\", \"international\", \"foreign\", \"time\", \"global\", \"anti\", \"pakistan\", \"japan\", \"human\", \"russia\", \"iraq\", \"city\", \"france\", \"israel\", \"says\", \"new\", \"government\", \"killed\", \"attack\", \"years\", \"chinese\", \"death\", \"iraq\", \"saudi\", \"group\", \"city\", \"million\", \"europe\", \"bbc\", \"palestinian\", \"law\", \"day\", \"al\", \"troops\", \"protest\", \"officials\", \"video\", \"protests\", \"calls\", \"women\", \"border\", \"international\", \"germany\", \"foreign\", \"anti\", \"israeli\", \"old\", \"state\", \"syria\", \"iran\", \"turkey\", \"uk\", \"say\", \"report\", \"china\", \"india\", \"russia\", \"world\", \"north\", \"south\", \"korea\", \"isis\", \"japan\", \"egypt\", \"dead\", \"islamic\", \"security\", \"oil\", \"crisis\", \"french\", \"france\", \"air\", \"army\", \"foreign\", \"international\", \"law\", \"day\", \"al\", \"troops\", \"protest\", \"officials\", \"video\", \"protests\", \"palestinian\", \"calls\", \"women\", \"anti\", \"china\", \"ukraine\", \"turkey\", \"india\", \"uk\", \"germany\", \"syria\", \"saudi\", \"state\", \"gaza\", \"israel\", \"iran\", \"people\", \"military\", \"year\", \"syrian\", \"pakistan\", \"attacks\", \"british\", \"gaza\", \"obama\", \"putin\", \"human\", \"bank\", \"old\", \"time\", \"calls\", \"protests\", \"video\", \"law\", \"day\", \"al\", \"troops\", \"protest\", \"officials\", \"palestinian\", \"women\", \"border\", \"international\", \"germany\", \"anti\", \"million\", \"india\", \"rights\", \"saudi\", \"egypt\", \"turkey\", \"syria\", \"china\", \"president\", \"russian\", \"news\", \"minister\", \"said\", \"ukraine\", \"israeli\", \"country\", \"court\", \"leader\", \"anti\", \"german\", \"talks\", \"rebels\", \"children\", \"global\", \"border\", \"law\", \"day\", \"al\", \"troops\", \"protest\", \"officials\", \"video\", \"protests\", \"palestinian\", \"calls\", \"women\", \"international\", \"germany\", \"government\", \"isis\", \"putin\", \"islamic\", \"israel\", \"nuclear\", \"russia\", \"india\", \"china\", \"japan\"], \"Freq\": [25207.0, 24413.0, 23197.0, 18657.0, 17992.0, 16398.0, 16629.0, 17595.0, 16391.0, 16166.0, 14494.0, 15401.0, 14204.0, 13294.0, 12818.0, 12207.0, 12266.0, 11825.0, 11943.0, 11519.0, 12483.0, 11242.0, 11531.0, 11491.0, 11288.0, 10675.0, 11342.0, 10045.0, 9798.0, 9269.0, 24412.865437394204, 17594.792890019708, 15400.78991774324, 12482.858509072405, 11341.421519567293, 10105.559024827264, 9345.526798976447, 7608.83920416073, 7239.469106245103, 6928.420583770023, 6866.396026764541, 6083.220277569012, 6001.755151184298, 5625.904883801754, 5574.063460377375, 5400.950150414288, 5151.00039275753, 5044.5403829383795, 4972.3326732277155, 4945.486218306807, 4836.248958964346, 0.18517461390907566, 0.18517318771496794, 0.1851752003817655, 0.18517318500099647, 0.18517199608078547, 0.18517502146132148, 0.1851750214592851, 0.18517387217749134, 0.18517133066287056, 0.18526499315268521, 0.18521200063969454, 0.18519996261270721, 0.18519946782321073, 0.18519540024514267, 0.1851911255019314, 0.18519105267323852, 0.1851819759383494, 0.18518055027003247, 25206.997227148357, 23196.286057665395, 16165.244535327847, 14204.131767287003, 12817.365997749082, 9581.579190351795, 8580.687438770998, 8359.47946834511, 8274.17053029813, 7130.435943159979, 6604.695029746467, 6294.210258991508, 6243.620015691495, 5899.408559323199, 5708.951471333961, 5440.1290160243625, 0.19843182226105818, 0.19843172715411306, 0.19843396167652, 0.1984318221680697, 0.19843182212377666, 0.19843224705110443, 0.19842407761879843, 0.19842408100771747, 0.1984240776474684, 0.19843182196301778, 0.1984217879999049, 0.19842635143497783, 0.19843181467892007, 0.19842722585776343, 0.19874341613423072, 0.1984963852161148, 0.19845111762613127, 0.19844334693165508, 0.19843933073783956, 0.19843632250204188, 0.19843587622440112, 0.19843294326519745, 0.19843259072801278, 0.19843255761190637, 0.1984324509990032, 0.19843230593041994, 18656.832962369015, 17992.159320924253, 11530.49627121828, 11490.695459718172, 11287.711278576966, 9072.79558111132, 8672.797391766877, 8275.784239613005, 8074.790125611834, 7572.3047108638, 7267.828508553133, 6672.806254844935, 6574.299228890424, 6433.006302425476, 6286.738299525722, 6039.97321750272, 5942.461215067333, 5631.019804256361, 5623.0596422519375, 0.19904348860730428, 0.19904339256664869, 0.19904456667934461, 0.19904348851340076, 0.19904348846867193, 0.1990434845480083, 0.1990356679428922, 0.1990356713650724, 0.1990381877811126, 0.1990356679718429, 0.199043488306331, 0.19921111270725314, 0.19906943248007497, 0.19905687751908052, 0.19905607280284218, 0.19905166500823185, 0.19904868522831426, 0.19904635071664498, 0.19904617625179696, 0.19904548925009546, 0.19904477716989943, 0.1990446768346333, 16628.98781929139, 16390.41137227593, 14493.209757677403, 12266.150189790838, 11942.51602225446, 10674.948800905717, 8767.374219658668, 7147.1287945131735, 7022.65410193392, 6814.15899875342, 6666.863952260826, 6118.137995757041, 5873.337827203682, 5848.442918516478, 5714.632620900139, 5646.171556411506, 5509.249404235203, 5421.079836029306, 5409.669652872985, 0.2075018545745004, 0.2075260988328151, 0.20750306016989395, 0.20750185446946304, 0.20750185441943336, 0.20750185003498273, 0.20751792590865722, 0.20750185423784226, 0.20749237007432184, 0.2074956766387617, 0.20750291569952778, 0.2076600966897566, 0.20758979345645068, 0.20754532251067775, 0.20754099685301353, 0.2075205398056207, 0.20751650360688145, 0.20751355345183878, 0.20751170241059308, 0.20750774163849506, 16398.080130287584, 13293.603801453168, 12206.499975850851, 11825.154283217873, 11519.003504562499, 11241.856456430072, 10045.182823426265, 9798.113861032272, 9268.526724605388, 8410.230329769383, 8403.78422635886, 6095.300746038689, 6088.855475359299, 6065.222783219458, 5797.743678320814, 5658.095958569877, 5616.201638728307, 0.21489326912126216, 0.2148917582692354, 0.21490627474660776, 0.21489187819194602, 0.21495072256008133, 0.21489187323554787, 0.21488433655484754, 0.21488210794183887, 0.21507464384490904, 0.2148821037009388, 0.2148991191713165, 0.21488607859732609, 0.21489186873928345, 0.2150997120693777, 0.2149838364809713, 0.21495824822130605, 0.21495813783453796, 0.2149307096597493, 0.2149257159652665, 0.2149096142951561, 0.21490913476542994, 0.2149089330195806, 0.21490570687784322], \"Total\": [25207.0, 24413.0, 23197.0, 18657.0, 17992.0, 16398.0, 16629.0, 17595.0, 16391.0, 16166.0, 14494.0, 15401.0, 14204.0, 13294.0, 12818.0, 12207.0, 12266.0, 11825.0, 11943.0, 11519.0, 12483.0, 11242.0, 11531.0, 11491.0, 11288.0, 10675.0, 11342.0, 10045.0, 9798.0, 9269.0, 24413.68535595234, 17595.612780937518, 15401.609793262365, 12483.678395711126, 11342.24139824481, 10106.378963255478, 9346.346702070361, 7609.659104006014, 7240.288978525314, 6929.240453579929, 6867.215896575975, 6084.040146906456, 6002.57506161035, 5626.724756751588, 5574.883336661054, 5401.770019869157, 5151.820320645102, 5045.360251981723, 4973.1525610909885, 4946.30611128363, 4837.068829398911, 5410.467171569011, 5421.877351077335, 5440.93582198228, 5510.046919269524, 5616.991758238315, 5623.86562538007, 5631.825789361021, 5646.969072143763, 5658.886075548297, 8404.575105977545, 8768.171781559044, 8673.603420579184, 5874.135368285984, 18657.63899764679, 8274.977153022384, 6295.016869381795, 6287.544290355066, 16629.78540205985, 25207.803823137052, 23197.092653885746, 16166.051344340785, 14204.93836214579, 12818.17259276257, 9582.385797959043, 8581.494052459684, 8360.286063652, 8274.977153022384, 7131.242583321579, 6605.501624327722, 6295.016869381795, 6244.426707242766, 5900.21517145071, 5709.758069322759, 5440.93582198228, 4837.068829398911, 4946.30611128363, 4973.1525610909885, 5045.360251981723, 5151.820320645102, 5401.770019869157, 5410.467171569011, 5421.877351077335, 5510.046919269524, 5574.883336661054, 5616.991758238315, 5623.86562538007, 5626.724756751588, 5631.825789361021, 8404.575105977545, 10045.973022493452, 5715.430146832066, 12483.678395711126, 17595.612780937518, 16391.208921961035, 7609.659104006014, 11342.24139824481, 6929.240453579929, 7240.288978525314, 24413.68535595234, 10106.378963255478, 18657.63899764679, 17992.965311617612, 11531.302262845584, 11491.50144278391, 11288.51726324349, 9073.601664180864, 8673.603420579184, 8276.590246964219, 8075.596107632506, 7573.11076656766, 7268.634491886588, 6673.612240256693, 6575.105211857544, 6433.812303479459, 6287.544290355066, 6040.779210583114, 5943.267202319266, 5631.825789361021, 5623.86562538007, 4837.068829398911, 4946.30611128363, 4973.1525610909885, 5045.360251981723, 5151.820320645102, 5401.770019869157, 5410.467171569011, 5421.877351077335, 5440.93582198228, 5510.046919269524, 5574.883336661054, 8404.575105977545, 24413.68535595234, 11242.646598477178, 7609.659104006014, 10106.378963255478, 11342.24139824481, 5626.724756751588, 17595.612780937518, 7131.242583321579, 12483.678395711126, 6814.956528357329, 16629.78540205985, 16391.208921961035, 14494.007273512862, 12266.94770996296, 11943.31353031166, 10675.746326350412, 8768.171781559044, 7147.926309559428, 7023.451625230501, 6814.956528357329, 6667.661485463962, 6118.935586927868, 5874.135368285984, 5849.240434583815, 5715.430146832066, 5646.969072143763, 5510.046919269524, 5421.877351077335, 5410.467171569011, 4837.068829398911, 4946.30611128363, 4973.1525610909885, 5045.360251981723, 5151.820320645102, 5401.770019869157, 5440.93582198228, 5574.883336661054, 5616.991758238315, 5623.86562538007, 5626.724756751588, 8404.575105977545, 6244.426707242766, 10106.378963255478, 6002.57506161035, 7131.242583321579, 8276.590246964219, 7609.659104006014, 17595.612780937518, 24413.68535595234, 16398.870247969047, 13294.393926290357, 12207.290106608692, 11825.94440060368, 11519.793621562163, 11242.646598477178, 10045.973022493452, 9798.903979127226, 9269.316842005965, 8411.020447386754, 8404.575105977545, 6096.090871708201, 6089.64559272326, 6066.012900986523, 5798.533799019407, 5658.886075548297, 5616.991758238315, 4837.068829398911, 4946.30611128363, 4973.1525610909885, 5045.360251981723, 5151.820320645102, 5401.770019869157, 5410.467171569011, 5421.877351077335, 5440.93582198228, 5510.046919269524, 5574.883336661054, 5623.86562538007, 5626.724756751588, 16166.051344340785, 9073.601664180864, 6118.935586927868, 7573.11076656766, 16629.78540205985, 9346.346702070361, 18657.63899764679, 10106.378963255478, 24413.68535595234, 8673.603420579184], \"Category\": [\"Default\", \"Default\", \"Default\", \"Default\", \"Default\", \"Default\", \"Default\", \"Default\", \"Default\", \"Default\", \"Default\", \"Default\", \"Default\", \"Default\", \"Default\", \"Default\", \"Default\", \"Default\", \"Default\", \"Default\", \"Default\", \"Default\", \"Default\", \"Default\", \"Default\", \"Default\", \"Default\", \"Default\", \"Default\", \"Default\", \"Topic1\", \"Topic1\", \"Topic1\", \"Topic1\", \"Topic1\", \"Topic1\", \"Topic1\", \"Topic1\", \"Topic1\", \"Topic1\", \"Topic1\", \"Topic1\", \"Topic1\", \"Topic1\", \"Topic1\", \"Topic1\", \"Topic1\", \"Topic1\", \"Topic1\", \"Topic1\", \"Topic1\", \"Topic1\", \"Topic1\", \"Topic1\", \"Topic1\", \"Topic1\", \"Topic1\", \"Topic1\", \"Topic1\", \"Topic1\", \"Topic1\", \"Topic1\", \"Topic1\", \"Topic1\", \"Topic1\", \"Topic1\", \"Topic1\", \"Topic1\", \"Topic1\", \"Topic2\", \"Topic2\", \"Topic2\", \"Topic2\", \"Topic2\", \"Topic2\", \"Topic2\", \"Topic2\", \"Topic2\", \"Topic2\", \"Topic2\", \"Topic2\", \"Topic2\", \"Topic2\", \"Topic2\", \"Topic2\", \"Topic2\", \"Topic2\", \"Topic2\", \"Topic2\", \"Topic2\", \"Topic2\", \"Topic2\", \"Topic2\", \"Topic2\", \"Topic2\", \"Topic2\", \"Topic2\", \"Topic2\", \"Topic2\", \"Topic2\", \"Topic2\", \"Topic2\", \"Topic2\", \"Topic2\", \"Topic2\", \"Topic2\", \"Topic2\", \"Topic2\", \"Topic2\", \"Topic2\", \"Topic2\", \"Topic3\", \"Topic3\", \"Topic3\", \"Topic3\", \"Topic3\", \"Topic3\", \"Topic3\", \"Topic3\", \"Topic3\", \"Topic3\", \"Topic3\", \"Topic3\", \"Topic3\", \"Topic3\", \"Topic3\", \"Topic3\", \"Topic3\", \"Topic3\", \"Topic3\", \"Topic3\", \"Topic3\", \"Topic3\", \"Topic3\", \"Topic3\", \"Topic3\", \"Topic3\", \"Topic3\", \"Topic3\", \"Topic3\", \"Topic3\", \"Topic3\", \"Topic3\", \"Topic3\", \"Topic3\", \"Topic3\", \"Topic3\", \"Topic3\", \"Topic3\", \"Topic3\", \"Topic3\", \"Topic3\", \"Topic4\", \"Topic4\", \"Topic4\", \"Topic4\", \"Topic4\", \"Topic4\", \"Topic4\", \"Topic4\", \"Topic4\", \"Topic4\", \"Topic4\", \"Topic4\", \"Topic4\", \"Topic4\", \"Topic4\", \"Topic4\", \"Topic4\", \"Topic4\", \"Topic4\", \"Topic4\", \"Topic4\", \"Topic4\", \"Topic4\", \"Topic4\", \"Topic4\", \"Topic4\", \"Topic4\", \"Topic4\", \"Topic4\", \"Topic4\", \"Topic4\", \"Topic4\", \"Topic4\", \"Topic4\", \"Topic4\", \"Topic4\", \"Topic4\", \"Topic4\", \"Topic4\", \"Topic5\", \"Topic5\", \"Topic5\", \"Topic5\", \"Topic5\", \"Topic5\", \"Topic5\", \"Topic5\", \"Topic5\", \"Topic5\", \"Topic5\", \"Topic5\", \"Topic5\", \"Topic5\", \"Topic5\", \"Topic5\", \"Topic5\", \"Topic5\", \"Topic5\", \"Topic5\", \"Topic5\", \"Topic5\", \"Topic5\", \"Topic5\", \"Topic5\", \"Topic5\", \"Topic5\", \"Topic5\", \"Topic5\", \"Topic5\", \"Topic5\", \"Topic5\", \"Topic5\", \"Topic5\", \"Topic5\", \"Topic5\", \"Topic5\", \"Topic5\", \"Topic5\", \"Topic5\"], \"logprob\": [30.0, 29.0, 28.0, 27.0, 26.0, 25.0, 24.0, 23.0, 22.0, 21.0, 20.0, 19.0, 18.0, 17.0, 16.0, 15.0, 14.0, 13.0, 12.0, 11.0, 10.0, 9.0, 8.0, 7.0, 6.0, 5.0, 4.0, 3.0, 2.0, 1.0, -2.0142, -2.3417, -2.4749, -2.685, -2.7809, -2.8963, -2.9745, -3.18, -3.2298, -3.2737, -3.2827, -3.4038, -3.4173, -3.482, -3.4912, -3.5228, -3.5702, -3.591, -3.6055, -3.6109, -3.6332, -13.8036, -13.8036, -13.8036, -13.8036, -13.8036, -13.8036, -13.8036, -13.8036, -13.8036, -13.8031, -13.8034, -13.8034, -13.8034, -13.8035, -13.8035, -13.8035, -13.8035, -13.8035, -1.907, -1.9902, -2.3513, -2.4806, -2.5834, -2.8743, -2.9847, -3.0108, -3.021, -3.1698, -3.2464, -3.2945, -3.3026, -3.3593, -3.3921, -3.4404, -13.6592, -13.6592, -13.6592, -13.6592, -13.6592, -13.6592, -13.6593, -13.6593, -13.6593, -13.6592, -13.6593, -13.6593, -13.6592, -13.6593, -13.6577, -13.6589, -13.6591, -13.6592, -13.6592, -13.6592, -13.6592, -13.6592, -13.6592, -13.6592, -13.6592, -13.6592, -2.2043, -2.2406, -2.6856, -2.689, -2.7068, -2.9253, -2.9704, -3.0172, -3.0418, -3.1061, -3.1471, -3.2325, -3.2474, -3.2691, -3.2921, -3.3322, -3.3484, -3.4023, -3.4037, -13.6525, -13.6525, -13.6525, -13.6525, -13.6525, -13.6525, -13.6526, -13.6526, -13.6526, -13.6526, -13.6525, -13.6517, -13.6524, -13.6525, -13.6525, -13.6525, -13.6525, -13.6525, -13.6525, -13.6525, -13.6525, -13.6525, -2.291, -2.3054, -2.4284, -2.5953, -2.622, -2.7342, -2.9311, -3.1354, -3.153, -3.1831, -3.205, -3.2909, -3.3317, -3.3359, -3.3591, -3.3711, -3.3957, -3.4118, -3.4139, -13.5825, -13.5824, -13.5825, -13.5825, -13.5825, -13.5825, -13.5824, -13.5825, -13.5825, -13.5825, -13.5825, -13.5817, -13.5821, -13.5823, -13.5823, -13.5824, -13.5824, -13.5824, -13.5824, -13.5825, -2.2638, -2.4737, -2.559, -2.5908, -2.617, -2.6414, -2.7539, -2.7788, -2.8344, -2.9315, -2.9323, -3.2535, -3.2545, -3.2584, -3.3035, -3.3279, -3.3353, -13.5064, -13.5064, -13.5063, -13.5064, -13.5061, -13.5064, -13.5064, -13.5064, -13.5055, -13.5064, -13.5063, -13.5064, -13.5064, -13.5054, -13.5059, -13.5061, -13.5061, -13.5062, -13.5062, -13.5063, -13.5063, -13.5063, -13.5063], \"loglift\": [30.0, 29.0, 28.0, 27.0, 26.0, 25.0, 24.0, 23.0, 22.0, 21.0, 20.0, 19.0, 18.0, 17.0, 16.0, 15.0, 14.0, 13.0, 12.0, 11.0, 10.0, 9.0, 8.0, 7.0, 6.0, 5.0, 4.0, 3.0, 2.0, 1.0, 1.5287, 1.5287, 1.5287, 1.5286, 1.5286, 1.5286, 1.5286, 1.5286, 1.5286, 1.5286, 1.5286, 1.5286, 1.5286, 1.5286, 1.5286, 1.5286, 1.5286, 1.5286, 1.5285, 1.5285, 1.5285, -8.7538, -8.7559, -8.7594, -8.7721, -8.7913, -8.7925, -8.7939, -8.7966, -8.7987, -9.1938, -9.2364, -9.2256, -8.8359, -9.9916, -9.1786, -8.9052, -8.904, -9.8767, 1.6039, 1.6039, 1.6039, 1.6038, 1.6038, 1.6038, 1.6038, 1.6038, 1.6038, 1.6038, 1.6038, 1.6038, 1.6038, 1.6038, 1.6038, 1.6038, -8.4975, -8.5198, -8.5252, -8.5396, -8.5605, -8.6079, -8.6095, -8.6116, -8.6278, -8.6394, -8.647, -8.6482, -8.6487, -8.6496, -9.0484, -9.228, -8.6642, -9.4455, -9.7888, -9.7179, -8.9506, -9.3497, -8.8569, -8.9008, -10.1163, -9.2343, 1.6075, 1.6075, 1.6074, 1.6074, 1.6074, 1.6074, 1.6074, 1.6074, 1.6074, 1.6074, 1.6074, 1.6074, 1.6074, 1.6074, 1.6074, 1.6074, 1.6074, 1.6074, 1.6074, -8.4908, -8.5131, -8.5185, -8.533, -8.5538, -8.6012, -8.6029, -8.605, -8.6085, -8.6211, -8.6328, -9.0424, -10.1095, -9.3341, -8.9438, -9.2276, -9.343, -8.642, -9.7821, -8.879, -9.4389, -8.8336, 1.6359, 1.6359, 1.6359, 1.6359, 1.6359, 1.6359, 1.6359, 1.6358, 1.6358, 1.6358, 1.6358, 1.6358, 1.6358, 1.6358, 1.6358, 1.6358, 1.6358, 1.6358, 1.6358, -8.4207, -8.4429, -8.4485, -8.4629, -8.4838, -8.5312, -8.5383, -8.5627, -8.5703, -8.5715, -8.5719, -8.9724, -8.6757, -9.1574, -8.6364, -8.8088, -8.9578, -8.8738, -9.712, -10.0395, 1.677, 1.677, 1.677, 1.677, 1.677, 1.677, 1.677, 1.677, 1.677, 1.677, 1.677, 1.6769, 1.6769, 1.6769, 1.6769, 1.6769, 1.6769, -8.3446, -8.3669, -8.3723, -8.3868, -8.4074, -8.455, -8.4567, -8.4588, -8.4614, -8.4749, -8.4865, -8.4954, -8.4958, -9.5503, -8.9732, -8.5794, -8.7926, -9.5793, -9.0031, -9.6945, -9.0814, -9.9634, -8.9285]}, \"token.table\": {\"Topic\": [3, 1, 5, 3, 2, 4, 4, 2, 5, 4, 4, 5, 1, 2, 2, 5, 5, 3, 1, 3, 1, 2, 3, 2, 1, 3, 3, 3, 4, 5, 1, 5, 2, 2, 4, 1, 3, 4, 2, 3, 3, 4, 5, 3, 2, 3, 1, 5, 4, 2, 5, 2, 5, 3, 1, 4, 1, 3, 4, 4, 2, 4, 1, 5, 1, 4, 4, 5, 1, 1, 3, 5, 5, 2, 1, 2, 3, 3, 1, 1, 4, 5, 4, 1, 1, 1, 5, 4, 1, 3, 4, 2], \"Freq\": [0.9998710082663261, 0.9997682433673952, 0.9999315722722097, 0.9997867835525261, 0.9999085210661595, 0.9998704086305158, 0.9997879323652895, 0.9998672326719354, 0.9998234360524278, 0.9999356975381052, 0.9998099981207306, 0.999907942414771, 0.9999719273865314, 0.9999424281533421, 0.9998384643912964, 0.9999077469144354, 0.9999658181922827, 0.9998319096315674, 0.9997359420840027, 0.9999261840705552, 0.999829036810846, 0.9998461698987082, 0.9999286847667208, 0.9997940462482471, 0.999822941845096, 0.9998533709329964, 0.999913433555307, 0.999873744610327, 0.9998596427793267, 0.9998210538964791, 0.9998711938502557, 0.9998434187335691, 0.9999349659160179, 0.9999240596163242, 0.9998067173779968, 0.9999625025682437, 0.9998460800030208, 0.9999262457109301, 0.9998819147165829, 0.9999336906993351, 0.9998533275688289, 0.9999527713653026, 0.9999031430314144, 0.9999304302318281, 0.9999339411321706, 0.9999541779286485, 0.9997790336593074, 0.9998786773384826, 0.9999227428056785, 0.9999316659058115, 0.9999201416333708, 0.9999528969469559, 0.9998943167076865, 0.9998870671485406, 0.9999629050706749, 0.9999007919845055, 0.9998574504530321, 0.9999082595400134, 0.999924739377262, 0.9998663596484836, 0.9998280034882053, 0.9999305041391346, 0.9999604071736299, 0.9999469324437666, 0.9998407707190768, 0.9998381831567693, 0.9998470997259937, 0.9998330203045961, 0.999821971397946, 0.9999041975144921, 0.9999657514197337, 0.9999703689921826, 0.9999311080052096, 0.9998257550059388, 0.999820982748652, 0.9999681121313585, 0.9999127082415141, 0.9999563640324628, 0.9999456573864192, 0.9999651742201225, 0.9999300914121039, 0.9998939851731221, 0.9998283907470747, 0.999928597371896, 0.9999133858695894, 0.9998905508883806, 0.9999424869872485, 0.9999136541163274, 0.9998415506464063, 0.9999463506097581, 0.9999737484651253, 0.9999597388409132], \"Term\": [\"air\", \"al\", \"anti\", \"army\", \"attack\", \"attacks\", \"bank\", \"bbc\", \"border\", \"british\", \"calls\", \"children\", \"china\", \"chinese\", \"city\", \"country\", \"court\", \"crisis\", \"day\", \"dead\", \"deal\", \"death\", \"egypt\", \"europe\", \"forces\", \"foreign\", \"france\", \"french\", \"gaza\", \"german\", \"germany\", \"global\", \"government\", \"group\", \"human\", \"india\", \"international\", \"iran\", \"iraq\", \"isis\", \"islamic\", \"israel\", \"israeli\", \"japan\", \"killed\", \"korea\", \"law\", \"leader\", \"military\", \"million\", \"minister\", \"new\", \"news\", \"north\", \"nuclear\", \"obama\", \"officials\", \"oil\", \"old\", \"pakistan\", \"palestinian\", \"people\", \"police\", \"president\", \"protest\", \"protests\", \"putin\", \"rebels\", \"report\", \"rights\", \"russia\", \"russian\", \"said\", \"saudi\", \"say\", \"says\", \"security\", \"south\", \"state\", \"syria\", \"syrian\", \"talks\", \"time\", \"troops\", \"turkey\", \"uk\", \"ukraine\", \"video\", \"women\", \"world\", \"year\", \"years\"]}, \"R\": 30, \"lambda.step\": 0.01, \"plot.opts\": {\"xlab\": \"PC1\", \"ylab\": \"PC2\"}, \"topic.order\": [4, 1, 2, 5, 3]};\n",
       "\n",
       "function LDAvis_load_lib(url, callback){\n",
       "  var s = document.createElement('script');\n",
       "  s.src = url;\n",
       "  s.async = true;\n",
       "  s.onreadystatechange = s.onload = callback;\n",
       "  s.onerror = function(){console.warn(\"failed to load library \" + url);};\n",
       "  document.getElementsByTagName(\"head\")[0].appendChild(s);\n",
       "}\n",
       "\n",
       "if(typeof(LDAvis) !== \"undefined\"){\n",
       "   // already loaded: just create the visualization\n",
       "   !function(LDAvis){\n",
       "       new LDAvis(\"#\" + \"ldavis_el20838140206284537296523635988\", ldavis_el20838140206284537296523635988_data);\n",
       "   }(LDAvis);\n",
       "}else if(typeof define === \"function\" && define.amd){\n",
       "   // require.js is available: use it to load d3/LDAvis\n",
       "   require.config({paths: {d3: \"https://d3js.org/d3.v5\"}});\n",
       "   require([\"d3\"], function(d3){\n",
       "      window.d3 = d3;\n",
       "      LDAvis_load_lib(\"https://cdn.jsdelivr.net/gh/bmabey/pyLDAvis@3.2.2/pyLDAvis/js/ldavis.v3.0.0.js\", function(){\n",
       "        new LDAvis(\"#\" + \"ldavis_el20838140206284537296523635988\", ldavis_el20838140206284537296523635988_data);\n",
       "      });\n",
       "    });\n",
       "}else{\n",
       "    // require.js not available: dynamically load d3 & LDAvis\n",
       "    LDAvis_load_lib(\"https://d3js.org/d3.v5.js\", function(){\n",
       "         LDAvis_load_lib(\"https://cdn.jsdelivr.net/gh/bmabey/pyLDAvis@3.2.2/pyLDAvis/js/ldavis.v3.0.0.js\", function(){\n",
       "                 new LDAvis(\"#\" + \"ldavis_el20838140206284537296523635988\", ldavis_el20838140206284537296523635988_data);\n",
       "            })\n",
       "         });\n",
       "}\n",
       "</script>"
      ],
      "text/plain": [
       "PreparedData(topic_coordinates=              x         y  topics  cluster       Freq\n",
       "topic                                                \n",
       "3     -0.192741  0.371230       1        1  21.681422\n",
       "0      0.428924  0.079272       2        1  20.111013\n",
       "1     -0.089969 -0.286563       3        1  20.038687\n",
       "4     -0.065133 -0.095599       4        1  19.476812\n",
       "2     -0.081082 -0.068339       5        1  18.692065, topic_info=       Term          Freq         Total Category  logprob  loglift\n",
       "75     says  25207.000000  25207.000000  Default  30.0000  30.0000\n",
       "12    china  24413.000000  24413.000000  Default  29.0000  29.0000\n",
       "51      new  23197.000000  23197.000000  Default  28.0000  28.0000\n",
       "70   russia  18657.000000  18657.000000  Default  27.0000  27.0000\n",
       "89    world  17992.000000  17992.000000  Default  26.0000  26.0000\n",
       "..      ...           ...           ...      ...      ...      ...\n",
       "54  nuclear      0.214926   9346.346702   Topic5 -13.5062  -9.0031\n",
       "70   russia      0.214910  18657.638998   Topic5 -13.5063  -9.6945\n",
       "35    india      0.214909  10106.378963   Topic5 -13.5063  -9.0814\n",
       "12    china      0.214909  24413.685356   Topic5 -13.5063  -9.9634\n",
       "43    japan      0.214906   8673.603421   Topic5 -13.5063  -8.9285\n",
       "\n",
       "[231 rows x 6 columns], token_table=      Topic      Freq    Term\n",
       "term                         \n",
       "0         3  0.999871     air\n",
       "1         1  0.999768      al\n",
       "2         5  0.999932    anti\n",
       "3         3  0.999787    army\n",
       "4         2  0.999909  attack\n",
       "...     ...       ...     ...\n",
       "87        4  0.999914   video\n",
       "88        1  0.999842   women\n",
       "89        3  0.999946   world\n",
       "90        4  0.999974    year\n",
       "91        2  0.999960   years\n",
       "\n",
       "[92 rows x 3 columns], R=30, lambda_step=0.01, plot_opts={'xlab': 'PC1', 'ylab': 'PC2'}, topic_order=[4, 1, 2, 5, 3])"
      ]
     },
     "execution_count": 316,
     "metadata": {},
     "output_type": "execute_result"
    }
   ],
   "source": [
    "pyLDAvis.sklearn.prepare(lda, words_vect, cv)"
   ]
  },
  {
   "cell_type": "markdown",
   "id": "single-pointer",
   "metadata": {},
   "source": [
    "Even though the topic representations from LDA do not seem to be perfect, they still might contain some useful information. I will store the most likely topic for each of the titles in the dataset. "
   ]
  },
  {
   "cell_type": "code",
   "execution_count": 317,
   "id": "intense-bowling",
   "metadata": {},
   "outputs": [
    {
     "name": "stderr",
     "output_type": "stream",
     "text": [
      "`should_run_async` will not call `transform_cell` automatically in the future. Please pass the result to `transformed_cell` argument and any exception that happen during thetransform in `preprocessing_exc_tuple` in IPython 7.17 and above.\n"
     ]
    },
    {
     "data": {
      "text/html": [
       "<div>\n",
       "<style scoped>\n",
       "    .dataframe tbody tr th:only-of-type {\n",
       "        vertical-align: middle;\n",
       "    }\n",
       "\n",
       "    .dataframe tbody tr th {\n",
       "        vertical-align: top;\n",
       "    }\n",
       "\n",
       "    .dataframe thead th {\n",
       "        text-align: right;\n",
       "    }\n",
       "</style>\n",
       "<table border=\"1\" class=\"dataframe\">\n",
       "  <thead>\n",
       "    <tr style=\"text-align: right;\">\n",
       "      <th></th>\n",
       "      <th>up_votes</th>\n",
       "      <th>title</th>\n",
       "      <th>over_18</th>\n",
       "      <th>author</th>\n",
       "      <th>posted_before</th>\n",
       "      <th>proliferate</th>\n",
       "      <th>viral</th>\n",
       "      <th>timestamp</th>\n",
       "      <th>month</th>\n",
       "      <th>day_of_week</th>\n",
       "      <th>is_holiday</th>\n",
       "      <th>title_cleaned</th>\n",
       "      <th>lda_topic</th>\n",
       "    </tr>\n",
       "  </thead>\n",
       "  <tbody>\n",
       "    <tr>\n",
       "      <th>0</th>\n",
       "      <td>3</td>\n",
       "      <td>Scores killed in Pakistan clashes</td>\n",
       "      <td>False</td>\n",
       "      <td>polar</td>\n",
       "      <td>0</td>\n",
       "      <td>False</td>\n",
       "      <td>False</td>\n",
       "      <td>2008-01-25 03:34:06</td>\n",
       "      <td>1</td>\n",
       "      <td>4</td>\n",
       "      <td>False</td>\n",
       "      <td>scores killed in pakistan clashes</td>\n",
       "      <td>0</td>\n",
       "    </tr>\n",
       "    <tr>\n",
       "      <th>1</th>\n",
       "      <td>2</td>\n",
       "      <td>Japan resumes refuelling mission</td>\n",
       "      <td>False</td>\n",
       "      <td>polar</td>\n",
       "      <td>1</td>\n",
       "      <td>False</td>\n",
       "      <td>False</td>\n",
       "      <td>2008-01-25 03:34:35</td>\n",
       "      <td>1</td>\n",
       "      <td>4</td>\n",
       "      <td>False</td>\n",
       "      <td>japan resumes refuelling mission</td>\n",
       "      <td>1</td>\n",
       "    </tr>\n",
       "    <tr>\n",
       "      <th>2</th>\n",
       "      <td>3</td>\n",
       "      <td>US presses Egypt on Gaza border</td>\n",
       "      <td>False</td>\n",
       "      <td>polar</td>\n",
       "      <td>2</td>\n",
       "      <td>False</td>\n",
       "      <td>False</td>\n",
       "      <td>2008-01-25 03:42:03</td>\n",
       "      <td>1</td>\n",
       "      <td>4</td>\n",
       "      <td>False</td>\n",
       "      <td>us presses egypt on gaza border</td>\n",
       "      <td>1</td>\n",
       "    </tr>\n",
       "    <tr>\n",
       "      <th>3</th>\n",
       "      <td>1</td>\n",
       "      <td>Jump-start economy: Give health care to all</td>\n",
       "      <td>False</td>\n",
       "      <td>fadi420</td>\n",
       "      <td>0</td>\n",
       "      <td>False</td>\n",
       "      <td>False</td>\n",
       "      <td>2008-01-25 03:54:50</td>\n",
       "      <td>1</td>\n",
       "      <td>4</td>\n",
       "      <td>False</td>\n",
       "      <td>jump-start economy give health care to all</td>\n",
       "      <td>0</td>\n",
       "    </tr>\n",
       "    <tr>\n",
       "      <th>4</th>\n",
       "      <td>4</td>\n",
       "      <td>Council of Europe bashes EU&amp;UN terror blacklist</td>\n",
       "      <td>False</td>\n",
       "      <td>mhermans</td>\n",
       "      <td>0</td>\n",
       "      <td>False</td>\n",
       "      <td>False</td>\n",
       "      <td>2008-01-25 15:25:20</td>\n",
       "      <td>1</td>\n",
       "      <td>4</td>\n",
       "      <td>False</td>\n",
       "      <td>council of europe bashes eu&amp;un terror blacklist</td>\n",
       "      <td>0</td>\n",
       "    </tr>\n",
       "  </tbody>\n",
       "</table>\n",
       "</div>"
      ],
      "text/plain": [
       "   up_votes                                            title  over_18  \\\n",
       "0         3                Scores killed in Pakistan clashes    False   \n",
       "1         2                 Japan resumes refuelling mission    False   \n",
       "2         3                  US presses Egypt on Gaza border    False   \n",
       "3         1     Jump-start economy: Give health care to all     False   \n",
       "4         4  Council of Europe bashes EU&UN terror blacklist    False   \n",
       "\n",
       "     author  posted_before  proliferate  viral           timestamp  month  \\\n",
       "0     polar              0        False  False 2008-01-25 03:34:06      1   \n",
       "1     polar              1        False  False 2008-01-25 03:34:35      1   \n",
       "2     polar              2        False  False 2008-01-25 03:42:03      1   \n",
       "3   fadi420              0        False  False 2008-01-25 03:54:50      1   \n",
       "4  mhermans              0        False  False 2008-01-25 15:25:20      1   \n",
       "\n",
       "   day_of_week  is_holiday                                    title_cleaned  \\\n",
       "0            4       False                scores killed in pakistan clashes   \n",
       "1            4       False                 japan resumes refuelling mission   \n",
       "2            4       False                  us presses egypt on gaza border   \n",
       "3            4       False      jump-start economy give health care to all    \n",
       "4            4       False  council of europe bashes eu&un terror blacklist   \n",
       "\n",
       "   lda_topic  \n",
       "0          0  \n",
       "1          1  \n",
       "2          1  \n",
       "3          0  \n",
       "4          0  "
      ]
     },
     "execution_count": 317,
     "metadata": {},
     "output_type": "execute_result"
    }
   ],
   "source": [
    "df['lda_topic'] = df['title'].apply(lambda x: lda.transform(cv.transform([x])).argmax())\n",
    "df.head()"
   ]
  },
  {
   "cell_type": "markdown",
   "id": "contrary-wesley",
   "metadata": {},
   "source": [
    "### Sentiment Analysis\n",
    "\n",
    "Another NLP task that might advance Eluvio's pursuit of business objectives is sentiment analysis. At its very basic, the company might use text classification to understand whether users prefer a positively or negatively charged content. Such a use case of sentiment analysis will be presented here. In general, Eluvio might want to go further and, for instance, investigate whether radical titles attract more traffic. If that is the case, the company might want to monitor the radical content (after initially classifying it as such using NLP) to prevent harmful, hateful, or distasteful videos from going viral."
   ]
  },
  {
   "cell_type": "code",
   "execution_count": 362,
   "id": "amber-colon",
   "metadata": {},
   "outputs": [
    {
     "name": "stderr",
     "output_type": "stream",
     "text": [
      "`should_run_async` will not call `transform_cell` automatically in the future. Please pass the result to `transformed_cell` argument and any exception that happen during thetransform in `preprocessing_exc_tuple` in IPython 7.17 and above.\n"
     ]
    },
    {
     "data": {
      "application/vnd.jupyter.widget-view+json": {
       "model_id": "681d6ee42abe488ca7c634ae152ba126",
       "version_major": 2,
       "version_minor": 0
      },
      "text/plain": [
       "Downloading:   0%|          | 0.00/728 [00:00<?, ?B/s]"
      ]
     },
     "metadata": {},
     "output_type": "display_data"
    },
    {
     "data": {
      "application/vnd.jupyter.widget-view+json": {
       "model_id": "120449775a794a47a056587a02301041",
       "version_major": 2,
       "version_minor": 0
      },
      "text/plain": [
       "Downloading:   0%|          | 0.00/557M [00:00<?, ?B/s]"
      ]
     },
     "metadata": {},
     "output_type": "display_data"
    },
    {
     "name": "stderr",
     "output_type": "stream",
     "text": [
      "Some weights of the model checkpoint at microsoft/deberta-base-mnli were not used when initializing DebertaForSequenceClassification: ['config']\n",
      "- This IS expected if you are initializing DebertaForSequenceClassification from the checkpoint of a model trained on another task or with another architecture (e.g. initializing a BertForSequenceClassification model from a BertForPreTraining model).\n",
      "- This IS NOT expected if you are initializing DebertaForSequenceClassification from the checkpoint of a model that you expect to be exactly identical (initializing a BertForSequenceClassification model from a BertForSequenceClassification model).\n"
     ]
    },
    {
     "data": {
      "application/vnd.jupyter.widget-view+json": {
       "model_id": "a2d2aa4aee1d420ba1b6485594046f05",
       "version_major": 2,
       "version_minor": 0
      },
      "text/plain": [
       "Downloading:   0%|          | 0.00/899k [00:00<?, ?B/s]"
      ]
     },
     "metadata": {},
     "output_type": "display_data"
    },
    {
     "data": {
      "application/vnd.jupyter.widget-view+json": {
       "model_id": "25e467e575b04adeba80b603ed2a764a",
       "version_major": 2,
       "version_minor": 0
      },
      "text/plain": [
       "Downloading:   0%|          | 0.00/456k [00:00<?, ?B/s]"
      ]
     },
     "metadata": {},
     "output_type": "display_data"
    },
    {
     "data": {
      "application/vnd.jupyter.widget-view+json": {
       "model_id": "5e426cd06a6a47d6ab62b12f3d7885a7",
       "version_major": 2,
       "version_minor": 0
      },
      "text/plain": [
       "Downloading:   0%|          | 0.00/52.0 [00:00<?, ?B/s]"
      ]
     },
     "metadata": {},
     "output_type": "display_data"
    },
    {
     "data": {
      "application/vnd.jupyter.widget-view+json": {
       "model_id": "f728fca092c2413381e95bc2ff4dd831",
       "version_major": 2,
       "version_minor": 0
      },
      "text/plain": [
       "Downloading:   0%|          | 0.00/521 [00:00<?, ?B/s]"
      ]
     },
     "metadata": {},
     "output_type": "display_data"
    },
    {
     "data": {
      "application/vnd.jupyter.widget-view+json": {
       "model_id": "c076e2f4a9734331bf297c18b3e61182",
       "version_major": 2,
       "version_minor": 0
      },
      "text/plain": [
       "Downloading:   0%|          | 0.00/126M [00:00<?, ?B/s]"
      ]
     },
     "metadata": {},
     "output_type": "display_data"
    },
    {
     "data": {
      "application/vnd.jupyter.widget-view+json": {
       "model_id": "f0bc2751c9c24474b3efd853cfb01dd8",
       "version_major": 2,
       "version_minor": 0
      },
      "text/plain": [
       "Downloading:   0%|          | 0.00/232k [00:00<?, ?B/s]"
      ]
     },
     "metadata": {},
     "output_type": "display_data"
    },
    {
     "data": {
      "application/vnd.jupyter.widget-view+json": {
       "model_id": "3609dd71d2f94c3b99d2105aedcafe3e",
       "version_major": 2,
       "version_minor": 0
      },
      "text/plain": [
       "Downloading:   0%|          | 0.00/112 [00:00<?, ?B/s]"
      ]
     },
     "metadata": {},
     "output_type": "display_data"
    },
    {
     "data": {
      "application/vnd.jupyter.widget-view+json": {
       "model_id": "68cd43261474454c9783da43662afee3",
       "version_major": 2,
       "version_minor": 0
      },
      "text/plain": [
       "Downloading:   0%|          | 0.00/300 [00:00<?, ?B/s]"
      ]
     },
     "metadata": {},
     "output_type": "display_data"
    },
    {
     "data": {
      "application/vnd.jupyter.widget-view+json": {
       "model_id": "d53c848501544b7a9495f88a1679666b",
       "version_major": 2,
       "version_minor": 0
      },
      "text/plain": [
       "Downloading:   0%|          | 0.00/847 [00:00<?, ?B/s]"
      ]
     },
     "metadata": {},
     "output_type": "display_data"
    },
    {
     "data": {
      "application/vnd.jupyter.widget-view+json": {
       "model_id": "29a6b42ea61f4af9b4eb967f473e80f5",
       "version_major": 2,
       "version_minor": 0
      },
      "text/plain": [
       "Downloading:   0%|          | 0.00/44.7M [00:00<?, ?B/s]"
      ]
     },
     "metadata": {},
     "output_type": "display_data"
    },
    {
     "data": {
      "application/vnd.jupyter.widget-view+json": {
       "model_id": "fdbc2a4ad15e4745ac9e23720d251ffb",
       "version_major": 2,
       "version_minor": 0
      },
      "text/plain": [
       "Downloading:   0%|          | 0.00/232k [00:00<?, ?B/s]"
      ]
     },
     "metadata": {},
     "output_type": "display_data"
    },
    {
     "data": {
      "application/vnd.jupyter.widget-view+json": {
       "model_id": "67d30022a20e418bb8be1a686e74d891",
       "version_major": 2,
       "version_minor": 0
      },
      "text/plain": [
       "Downloading:   0%|          | 0.00/112 [00:00<?, ?B/s]"
      ]
     },
     "metadata": {},
     "output_type": "display_data"
    },
    {
     "data": {
      "application/vnd.jupyter.widget-view+json": {
       "model_id": "11cf90c1cc2c4dbb8a3ecac5aac77e4b",
       "version_major": 2,
       "version_minor": 0
      },
      "text/plain": [
       "Downloading:   0%|          | 0.00/324 [00:00<?, ?B/s]"
      ]
     },
     "metadata": {},
     "output_type": "display_data"
    }
   ],
   "source": [
    "# importing the classifiers\n",
    "classifier_distil = pipeline('sentiment-analysis', model=\"distilbert-base-uncased-finetuned-sst-2-english\")\n",
    "classifier_microsoft = pipeline('sentiment-analysis', model=\"microsoft/deberta-base-mnli\")\n",
    "classifier_imdb = pipeline('sentiment-analysis', model=\"lannelin/bert-imdb-1hidden\") # 1 - positive, 0 - negative"
   ]
  },
  {
   "cell_type": "markdown",
   "id": "chubby-timing",
   "metadata": {},
   "source": [
    "Because of the fact that our data is unlabaled, it is impossible to fully quantify the peformance of the model in terms of pure classification accuracy. However, I do not want to blindly trust any first transformer with the task of labeling the data. It might happen that some of the classifiers will not be suited to this dataset given the peculiarities of the dataset that they were initially trained and evaluated on. Because of that, I will randomly choose some texts and see how different models predict on them. I will proceed to choose the one that peforms the best, where the peformance will be judged by the lowest number of attrocious mistakes. A misprediction of a model will be considered to be a huge and problematic one when it clealy is of the other sentiment. For instance, when the topic of the video is '10 people killed in a terrorist attack' and the model labels it as 'positive,' that is a huge problem. I will ty to identify some of those and choose the model that has the least of them. \n",
    "\n",
    "One thing to note here is that we will call those transformers on the un-processed data. It is because each of those models uses its own pipeline to manipulate the text and this is one of the reasons for why the results will differ.\n",
    "\n",
    "In this notebook, I am using the huggingface's library 'transformers.' The models I use can be found here: https://huggingface.co/models?filter=en&pipeline_tag=text-classification"
   ]
  },
  {
   "cell_type": "markdown",
   "id": "active-prompt",
   "metadata": {},
   "source": [
    "#### Sanity check of downloaded models"
   ]
  },
  {
   "cell_type": "code",
   "execution_count": 364,
   "id": "distributed-oliver",
   "metadata": {},
   "outputs": [
    {
     "name": "stderr",
     "output_type": "stream",
     "text": [
      "`should_run_async` will not call `transform_cell` automatically in the future. Please pass the result to `transformed_cell` argument and any exception that happen during thetransform in `preprocessing_exc_tuple` in IPython 7.17 and above.\n"
     ]
    },
    {
     "name": "stdout",
     "output_type": "stream",
     "text": [
      "Text: Mass graves in Tikrit might contain 1,700 bodies\n",
      "\n",
      "Model 1's prediction:\n",
      "NEGATIVE 0.9897891283035278\n",
      "\n",
      "Model 2's prediction:\n",
      "NEUTRAL 0.998257577419281\n",
      "\n",
      "Model 3's prediction:\n",
      "LABEL_0 0.9309020042419434\n",
      "\n",
      "---------------------------\n",
      "\n",
      "Text: Egypt sends 13 to trial for sexual violence\n",
      "\n",
      "Model 1's prediction:\n",
      "NEGATIVE 0.9348207712173462\n",
      "\n",
      "Model 2's prediction:\n",
      "NEUTRAL 0.9493114948272705\n",
      "\n",
      "Model 3's prediction:\n",
      "LABEL_0 0.5670278668403625\n",
      "\n",
      "---------------------------\n",
      "\n",
      "Text: 3,000 FSA Fighters Defect to ISIS in the Qalamoun Mountains\n",
      "\n",
      "Model 1's prediction:\n",
      "NEGATIVE 0.9746105074882507\n",
      "\n",
      "Model 2's prediction:\n",
      "NEUTRAL 0.9049164056777954\n",
      "\n",
      "Model 3's prediction:\n",
      "LABEL_1 0.9285773038864136\n",
      "\n",
      "---------------------------\n",
      "\n",
      "Text: Abuse inquiry: Churches and  prominent people  to be investigated\n",
      "\n",
      "Model 1's prediction:\n",
      "NEGATIVE 0.9370425343513489\n",
      "\n",
      "Model 2's prediction:\n",
      "NEUTRAL 0.9807129502296448\n",
      "\n",
      "Model 3's prediction:\n",
      "LABEL_1 0.9340775012969971\n",
      "\n",
      "---------------------------\n",
      "\n",
      "Text: North Korea could have 100 nukes by 2020\n",
      "\n",
      "Model 1's prediction:\n",
      "NEGATIVE 0.9919365644454956\n",
      "\n",
      "Model 2's prediction:\n",
      "NEUTRAL 0.9964509606361389\n",
      "\n",
      "Model 3's prediction:\n",
      "LABEL_1 0.8486509323120117\n",
      "\n",
      "---------------------------\n",
      "\n",
      "Text: 100,000 People Attend Putin Birthday Parade in Grozny\n",
      "\n",
      "Model 1's prediction:\n",
      "POSITIVE 0.9952419400215149\n",
      "\n",
      "Model 2's prediction:\n",
      "NEUTRAL 0.9883026480674744\n",
      "\n",
      "Model 3's prediction:\n",
      "LABEL_1 0.9653343558311462\n",
      "\n",
      "---------------------------\n",
      "\n",
      "Text: Government announces new laws to protect children following investigation by independent into illegal schools\n",
      "\n",
      "Model 1's prediction:\n",
      "NEGATIVE 0.7513665556907654\n",
      "\n",
      "Model 2's prediction:\n",
      "NEUTRAL 0.9720786809921265\n",
      "\n",
      "Model 3's prediction:\n",
      "LABEL_1 0.8960415124893188\n",
      "\n",
      "---------------------------\n",
      "\n",
      "Text: U.N. rapporteur urges Japan to consider law banning hate speech\n",
      "\n",
      "Model 1's prediction:\n",
      "NEGATIVE 0.9632763266563416\n",
      "\n",
      "Model 2's prediction:\n",
      "NEUTRAL 0.9833199977874756\n",
      "\n",
      "Model 3's prediction:\n",
      "LABEL_0 0.6979882121086121\n",
      "\n",
      "---------------------------\n",
      "\n",
      "Text: South Korea to develop Stuxnet-like cyberweapons: South Korea is to develop cyber-attack tools in an attempt to damage North Korean nuclear facilities.\n",
      "\n",
      "Model 1's prediction:\n",
      "NEGATIVE 0.9938970804214478\n",
      "\n",
      "Model 2's prediction:\n",
      "NEUTRAL 0.984943687915802\n",
      "\n",
      "Model 3's prediction:\n",
      "LABEL_1 0.9332379102706909\n",
      "\n",
      "---------------------------\n",
      "\n",
      "Text: Ukrainian soldiers not letting women and children out of Slovyansk -  self-defense forces  spokesman\n",
      "\n",
      "Model 1's prediction:\n",
      "POSITIVE 0.8684370517730713\n",
      "\n",
      "Model 2's prediction:\n",
      "NEUTRAL 0.9856017827987671\n",
      "\n",
      "Model 3's prediction:\n",
      "LABEL_0 0.838733434677124\n",
      "\n",
      "---------------------------\n",
      "\n",
      "Text: Turkish PM Says UN Doesn t Even Have a  Plan A  on Syria:Turkish Prime Minister Ahmet Davutoglu criticizes the UN and world powers for their failure to bring an end to the war in Syria.\n",
      "\n",
      "Model 1's prediction:\n",
      "NEGATIVE 0.999037504196167\n",
      "\n",
      "Model 2's prediction:\n",
      "NEUTRAL 0.9871375560760498\n",
      "\n",
      "Model 3's prediction:\n",
      "LABEL_0 0.9802870154380798\n",
      "\n",
      "---------------------------\n",
      "\n",
      "Text: 11 Heartbreaking Messages From Syrian Refugees To The World\n",
      "\n",
      "Model 1's prediction:\n",
      "NEGATIVE 0.7238896489143372\n",
      "\n",
      "Model 2's prediction:\n",
      "NEUTRAL 0.9506796598434448\n",
      "\n",
      "Model 3's prediction:\n",
      "LABEL_1 0.8528429865837097\n",
      "\n",
      "---------------------------\n",
      "\n",
      "Text: Egypt Leaders’ Transition Plan Meets With Swift Criticism: the roadmap  made clear that the government drew its authority only from the military commander who executed the takeover, Gen. Abdul-Fattah el-Sisi. \n",
      "\n",
      "Model 1's prediction:\n",
      "NEGATIVE 0.9967069029808044\n",
      "\n",
      "Model 2's prediction:\n",
      "NEUTRAL 0.6460475325584412\n",
      "\n",
      "Model 3's prediction:\n",
      "LABEL_1 0.9283925294876099\n",
      "\n",
      "---------------------------\n",
      "\n",
      "Text: 3rd confirmed North Korean drone found, this time in Samcheok, a town 130 kilometers away from the Border. Drone was found by a herb harvester, who kept his findings to himself until the 2 drones were originally found. North Korea, however, denies involvement.\n",
      "\n",
      "Model 1's prediction:\n",
      "NEGATIVE 0.9950270056724548\n",
      "\n",
      "Model 2's prediction:\n",
      "NEUTRAL 0.9943215250968933\n",
      "\n",
      "Model 3's prediction:\n",
      "LABEL_1 0.5127174854278564\n",
      "\n",
      "---------------------------\n",
      "\n",
      "Text: A broad coalition of Chilean politicians, Church leaders, environmentalists, indigenous groups and labor unions is calling on Chilean authorities to renationalize the country’s fresh water resources\n",
      "\n",
      "Model 1's prediction:\n",
      "POSITIVE 0.6001824736595154\n",
      "\n",
      "Model 2's prediction:\n",
      "NEUTRAL 0.9895725846290588\n",
      "\n",
      "Model 3's prediction:\n",
      "LABEL_1 0.586769163608551\n",
      "\n",
      "---------------------------\n",
      "\n",
      "Text: Gold miners infected with lung diseases brought on by repeated exposure to the dust of South Africa s mines have won a multimillion dollar out-of-court settlement. Anglo American South Africa and AngloGold Ashanti have agreed to pay the equivalent of $32,595,800 to claimants affected by silicosis\n",
      "\n",
      "Model 1's prediction:\n",
      "NEGATIVE 0.969084620475769\n",
      "\n",
      "Model 2's prediction:\n",
      "NEUTRAL 0.8681923747062683\n",
      "\n",
      "Model 3's prediction:\n",
      "LABEL_1 0.563373327255249\n",
      "\n",
      "---------------------------\n",
      "\n",
      "Text: 100,000 Syrian refugees have moved to the UAE since 2011\n",
      "\n",
      "Model 1's prediction:\n",
      "POSITIVE 0.9354501962661743\n",
      "\n",
      "Model 2's prediction:\n",
      "NEUTRAL 0.9926272630691528\n",
      "\n",
      "Model 3's prediction:\n",
      "LABEL_1 0.9198599457740784\n",
      "\n",
      "---------------------------\n",
      "\n",
      "Text: Pro-North Korea lawmaker gets 9 years for inciting rebellion in South Korea\n",
      "\n",
      "Model 1's prediction:\n",
      "NEGATIVE 0.9819328188896179\n",
      "\n",
      "Model 2's prediction:\n",
      "NEUTRAL 0.8447669744491577\n",
      "\n",
      "Model 3's prediction:\n",
      "LABEL_1 0.9530417323112488\n",
      "\n",
      "---------------------------\n",
      "\n",
      "Text: Floods threaten thousands in northern Japan:\n",
      "One dead and five missing\n",
      "\n",
      "Model 1's prediction:\n",
      "NEGATIVE 0.9962769746780396\n",
      "\n",
      "Model 2's prediction:\n",
      "NEUTRAL 0.9824351072311401\n",
      "\n",
      "Model 3's prediction:\n",
      "LABEL_0 0.9349077939987183\n",
      "\n",
      "---------------------------\n",
      "\n",
      "Text: Argentine Judges Allowed to Resign After Child Abuse Ruling\n",
      "\n",
      "Model 1's prediction:\n",
      "NEGATIVE 0.9749104976654053\n",
      "\n",
      "Model 2's prediction:\n",
      "NEUTRAL 0.8621169328689575\n",
      "\n",
      "Model 3's prediction:\n",
      "LABEL_1 0.7477677464485168\n",
      "\n",
      "---------------------------\n",
      "\n"
     ]
    }
   ],
   "source": [
    "N = [i for i in range(len(df))]\n",
    "j = random.sample(N, 20)\n",
    "\n",
    "for i in j:\n",
    "    print(\"Text:\", df['title'].iloc[i])\n",
    "    print()\n",
    "    print(\"Model 1's prediction:\")\n",
    "    result1 = classifier_distil(df['title'].iloc[i])[0]\n",
    "    print(result1['label'], result1['score'])\n",
    "    print()\n",
    "    print(\"Model 2's prediction:\")\n",
    "    result2 = classifier_microsoft(df['title'].iloc[i])[0]\n",
    "    print(result2['label'], result2['score'])\n",
    "    print()\n",
    "    print(\"Model 3's prediction:\")\n",
    "    result3 = classifier_imdb(df['title'].iloc[i])[0]\n",
    "    print(result3['label'], result3['score'])\n",
    "    print()\n",
    "    print(\"---------------------------\")\n",
    "    print()"
   ]
  },
  {
   "cell_type": "markdown",
   "id": "fabulous-assist",
   "metadata": {},
   "source": [
    "The second model seems to be predicting most of the video titles as neutral. Although lots of them in fact are, the model was unable to pick up on very negative ones and thus I will reject it. The remaining two algorithms have their corresponding flaws. The first model seems to be overly negative. For instance, the text \"Gold miners infected with lung diseases brought on by repeated exposure to the dust of South Africa s mines have won a multimillion dollar out-of-court settlement. Anglo American South Africa and AngloGold Ashanti have agreed to pay the equivalent of $32,595,800 to claimants affected by silicosis\" is a success story of the miners but the algorithm labeled it as negative with a very high certainty of 0.97. On the other hand, the third model is verly optimistic. It labeled \"3,000 FSA Fighters Defect to ISIS in the Qalamoun Mountains\" as positive, with the certainty of 0.93. In general, it seems like the third model is doing the best, however given the fact that those two models have differing biases, I will use both of them to label the data. One column will represent the label from one model and the other for the other. Additionally, I will add a column that states whether or not there was an agreement between the models. While this might not be an informative feature for a linear/logistic regression, it could be useful in random forests. "
   ]
  },
  {
   "cell_type": "code",
   "execution_count": 375,
   "id": "everyday-monitor",
   "metadata": {},
   "outputs": [
    {
     "name": "stderr",
     "output_type": "stream",
     "text": [
      "`should_run_async` will not call `transform_cell` automatically in the future. Please pass the result to `transformed_cell` argument and any exception that happen during thetransform in `preprocessing_exc_tuple` in IPython 7.17 and above.\n"
     ]
    },
    {
     "data": {
      "text/html": [
       "<div>\n",
       "<style scoped>\n",
       "    .dataframe tbody tr th:only-of-type {\n",
       "        vertical-align: middle;\n",
       "    }\n",
       "\n",
       "    .dataframe tbody tr th {\n",
       "        vertical-align: top;\n",
       "    }\n",
       "\n",
       "    .dataframe thead th {\n",
       "        text-align: right;\n",
       "    }\n",
       "</style>\n",
       "<table border=\"1\" class=\"dataframe\">\n",
       "  <thead>\n",
       "    <tr style=\"text-align: right;\">\n",
       "      <th></th>\n",
       "      <th>up_votes</th>\n",
       "      <th>title</th>\n",
       "      <th>over_18</th>\n",
       "      <th>author</th>\n",
       "      <th>posted_before</th>\n",
       "      <th>proliferate</th>\n",
       "      <th>viral</th>\n",
       "      <th>timestamp</th>\n",
       "      <th>month</th>\n",
       "      <th>day_of_week</th>\n",
       "      <th>is_holiday</th>\n",
       "      <th>title_cleaned</th>\n",
       "      <th>lda_topic</th>\n",
       "      <th>sentiment_distil</th>\n",
       "      <th>sentiment_imdb</th>\n",
       "    </tr>\n",
       "  </thead>\n",
       "  <tbody>\n",
       "    <tr>\n",
       "      <th>0</th>\n",
       "      <td>3</td>\n",
       "      <td>Scores killed in Pakistan clashes</td>\n",
       "      <td>False</td>\n",
       "      <td>polar</td>\n",
       "      <td>0</td>\n",
       "      <td>False</td>\n",
       "      <td>False</td>\n",
       "      <td>2008-01-25 03:34:06</td>\n",
       "      <td>1</td>\n",
       "      <td>4</td>\n",
       "      <td>False</td>\n",
       "      <td>scores killed in pakistan clashes</td>\n",
       "      <td>0</td>\n",
       "      <td>-1</td>\n",
       "      <td>-1</td>\n",
       "    </tr>\n",
       "    <tr>\n",
       "      <th>1</th>\n",
       "      <td>2</td>\n",
       "      <td>Japan resumes refuelling mission</td>\n",
       "      <td>False</td>\n",
       "      <td>polar</td>\n",
       "      <td>1</td>\n",
       "      <td>False</td>\n",
       "      <td>False</td>\n",
       "      <td>2008-01-25 03:34:35</td>\n",
       "      <td>1</td>\n",
       "      <td>4</td>\n",
       "      <td>False</td>\n",
       "      <td>japan resumes refuelling mission</td>\n",
       "      <td>1</td>\n",
       "      <td>1</td>\n",
       "      <td>-1</td>\n",
       "    </tr>\n",
       "    <tr>\n",
       "      <th>2</th>\n",
       "      <td>3</td>\n",
       "      <td>US presses Egypt on Gaza border</td>\n",
       "      <td>False</td>\n",
       "      <td>polar</td>\n",
       "      <td>2</td>\n",
       "      <td>False</td>\n",
       "      <td>False</td>\n",
       "      <td>2008-01-25 03:42:03</td>\n",
       "      <td>1</td>\n",
       "      <td>4</td>\n",
       "      <td>False</td>\n",
       "      <td>us presses egypt on gaza border</td>\n",
       "      <td>1</td>\n",
       "      <td>-1</td>\n",
       "      <td>-1</td>\n",
       "    </tr>\n",
       "    <tr>\n",
       "      <th>3</th>\n",
       "      <td>1</td>\n",
       "      <td>Jump-start economy: Give health care to all</td>\n",
       "      <td>False</td>\n",
       "      <td>fadi420</td>\n",
       "      <td>0</td>\n",
       "      <td>False</td>\n",
       "      <td>False</td>\n",
       "      <td>2008-01-25 03:54:50</td>\n",
       "      <td>1</td>\n",
       "      <td>4</td>\n",
       "      <td>False</td>\n",
       "      <td>jump-start economy give health care to all</td>\n",
       "      <td>0</td>\n",
       "      <td>1</td>\n",
       "      <td>1</td>\n",
       "    </tr>\n",
       "    <tr>\n",
       "      <th>4</th>\n",
       "      <td>4</td>\n",
       "      <td>Council of Europe bashes EU&amp;UN terror blacklist</td>\n",
       "      <td>False</td>\n",
       "      <td>mhermans</td>\n",
       "      <td>0</td>\n",
       "      <td>False</td>\n",
       "      <td>False</td>\n",
       "      <td>2008-01-25 15:25:20</td>\n",
       "      <td>1</td>\n",
       "      <td>4</td>\n",
       "      <td>False</td>\n",
       "      <td>council of europe bashes eu&amp;un terror blacklist</td>\n",
       "      <td>0</td>\n",
       "      <td>-1</td>\n",
       "      <td>1</td>\n",
       "    </tr>\n",
       "  </tbody>\n",
       "</table>\n",
       "</div>"
      ],
      "text/plain": [
       "   up_votes                                            title  over_18  \\\n",
       "0         3                Scores killed in Pakistan clashes    False   \n",
       "1         2                 Japan resumes refuelling mission    False   \n",
       "2         3                  US presses Egypt on Gaza border    False   \n",
       "3         1     Jump-start economy: Give health care to all     False   \n",
       "4         4  Council of Europe bashes EU&UN terror blacklist    False   \n",
       "\n",
       "     author  posted_before  proliferate  viral           timestamp  month  \\\n",
       "0     polar              0        False  False 2008-01-25 03:34:06      1   \n",
       "1     polar              1        False  False 2008-01-25 03:34:35      1   \n",
       "2     polar              2        False  False 2008-01-25 03:42:03      1   \n",
       "3   fadi420              0        False  False 2008-01-25 03:54:50      1   \n",
       "4  mhermans              0        False  False 2008-01-25 15:25:20      1   \n",
       "\n",
       "   day_of_week  is_holiday                                    title_cleaned  \\\n",
       "0            4       False                scores killed in pakistan clashes   \n",
       "1            4       False                 japan resumes refuelling mission   \n",
       "2            4       False                  us presses egypt on gaza border   \n",
       "3            4       False      jump-start economy give health care to all    \n",
       "4            4       False  council of europe bashes eu&un terror blacklist   \n",
       "\n",
       "   lda_topic  sentiment_distil  sentiment_imdb  \n",
       "0          0                -1              -1  \n",
       "1          1                 1              -1  \n",
       "2          1                -1              -1  \n",
       "3          0                 1               1  \n",
       "4          0                -1               1  "
      ]
     },
     "execution_count": 375,
     "metadata": {},
     "output_type": "execute_result"
    }
   ],
   "source": [
    "# defining functions to transform text into labels\n",
    "def classify_distil(x):\n",
    "    result = classifier_distil(x)[0]['label']\n",
    "    if result == 'NEGATIVE':\n",
    "        return -1\n",
    "    else: \n",
    "        return 1\n",
    "\n",
    "def classify_imdb(x):\n",
    "    result = classifier_imdb(x)[0]['label']\n",
    "    if result == 'LABEL_0':\n",
    "        return -1\n",
    "    else: \n",
    "        return 1\n",
    "    \n",
    "# creating new columns and applying functions\n",
    "df['sentiment_distil'] = df['title'].apply(lambda x: classify_distil(x))\n",
    "df['sentiment_imdb'] = df['title'].apply(lambda x: classify_imdb(x))\n",
    "\n",
    "df.head()"
   ]
  },
  {
   "cell_type": "code",
   "execution_count": 388,
   "id": "handled-given",
   "metadata": {},
   "outputs": [
    {
     "name": "stderr",
     "output_type": "stream",
     "text": [
      "`should_run_async` will not call `transform_cell` automatically in the future. Please pass the result to `transformed_cell` argument and any exception that happen during thetransform in `preprocessing_exc_tuple` in IPython 7.17 and above.\n"
     ]
    },
    {
     "data": {
      "text/html": [
       "<div>\n",
       "<style scoped>\n",
       "    .dataframe tbody tr th:only-of-type {\n",
       "        vertical-align: middle;\n",
       "    }\n",
       "\n",
       "    .dataframe tbody tr th {\n",
       "        vertical-align: top;\n",
       "    }\n",
       "\n",
       "    .dataframe thead th {\n",
       "        text-align: right;\n",
       "    }\n",
       "</style>\n",
       "<table border=\"1\" class=\"dataframe\">\n",
       "  <thead>\n",
       "    <tr style=\"text-align: right;\">\n",
       "      <th></th>\n",
       "      <th>up_votes</th>\n",
       "      <th>title</th>\n",
       "      <th>over_18</th>\n",
       "      <th>author</th>\n",
       "      <th>posted_before</th>\n",
       "      <th>proliferate</th>\n",
       "      <th>viral</th>\n",
       "      <th>timestamp</th>\n",
       "      <th>month</th>\n",
       "      <th>day_of_week</th>\n",
       "      <th>is_holiday</th>\n",
       "      <th>title_cleaned</th>\n",
       "      <th>lda_topic</th>\n",
       "      <th>sentiment_distil</th>\n",
       "      <th>sentiment_imdb</th>\n",
       "    </tr>\n",
       "  </thead>\n",
       "  <tbody>\n",
       "    <tr>\n",
       "      <th>0</th>\n",
       "      <td>3</td>\n",
       "      <td>Scores killed in Pakistan clashes</td>\n",
       "      <td>False</td>\n",
       "      <td>polar</td>\n",
       "      <td>0</td>\n",
       "      <td>False</td>\n",
       "      <td>False</td>\n",
       "      <td>2008-01-25 03:34:06</td>\n",
       "      <td>1</td>\n",
       "      <td>4</td>\n",
       "      <td>False</td>\n",
       "      <td>scores killed in pakistan clashes</td>\n",
       "      <td>0</td>\n",
       "      <td>-1.0</td>\n",
       "      <td>-1.0</td>\n",
       "    </tr>\n",
       "    <tr>\n",
       "      <th>1</th>\n",
       "      <td>2</td>\n",
       "      <td>Japan resumes refuelling mission</td>\n",
       "      <td>False</td>\n",
       "      <td>polar</td>\n",
       "      <td>1</td>\n",
       "      <td>False</td>\n",
       "      <td>False</td>\n",
       "      <td>2008-01-25 03:34:35</td>\n",
       "      <td>1</td>\n",
       "      <td>4</td>\n",
       "      <td>False</td>\n",
       "      <td>japan resumes refuelling mission</td>\n",
       "      <td>1</td>\n",
       "      <td>0.5</td>\n",
       "      <td>-0.5</td>\n",
       "    </tr>\n",
       "    <tr>\n",
       "      <th>2</th>\n",
       "      <td>3</td>\n",
       "      <td>US presses Egypt on Gaza border</td>\n",
       "      <td>False</td>\n",
       "      <td>polar</td>\n",
       "      <td>2</td>\n",
       "      <td>False</td>\n",
       "      <td>False</td>\n",
       "      <td>2008-01-25 03:42:03</td>\n",
       "      <td>1</td>\n",
       "      <td>4</td>\n",
       "      <td>False</td>\n",
       "      <td>us presses egypt on gaza border</td>\n",
       "      <td>1</td>\n",
       "      <td>-1.0</td>\n",
       "      <td>-1.0</td>\n",
       "    </tr>\n",
       "    <tr>\n",
       "      <th>3</th>\n",
       "      <td>1</td>\n",
       "      <td>Jump-start economy: Give health care to all</td>\n",
       "      <td>False</td>\n",
       "      <td>fadi420</td>\n",
       "      <td>0</td>\n",
       "      <td>False</td>\n",
       "      <td>False</td>\n",
       "      <td>2008-01-25 03:54:50</td>\n",
       "      <td>1</td>\n",
       "      <td>4</td>\n",
       "      <td>False</td>\n",
       "      <td>jump-start economy give health care to all</td>\n",
       "      <td>0</td>\n",
       "      <td>1.0</td>\n",
       "      <td>1.0</td>\n",
       "    </tr>\n",
       "    <tr>\n",
       "      <th>4</th>\n",
       "      <td>4</td>\n",
       "      <td>Council of Europe bashes EU&amp;UN terror blacklist</td>\n",
       "      <td>False</td>\n",
       "      <td>mhermans</td>\n",
       "      <td>0</td>\n",
       "      <td>False</td>\n",
       "      <td>False</td>\n",
       "      <td>2008-01-25 15:25:20</td>\n",
       "      <td>1</td>\n",
       "      <td>4</td>\n",
       "      <td>False</td>\n",
       "      <td>council of europe bashes eu&amp;un terror blacklist</td>\n",
       "      <td>0</td>\n",
       "      <td>-0.5</td>\n",
       "      <td>0.5</td>\n",
       "    </tr>\n",
       "  </tbody>\n",
       "</table>\n",
       "</div>"
      ],
      "text/plain": [
       "   up_votes                                            title  over_18  \\\n",
       "0         3                Scores killed in Pakistan clashes    False   \n",
       "1         2                 Japan resumes refuelling mission    False   \n",
       "2         3                  US presses Egypt on Gaza border    False   \n",
       "3         1     Jump-start economy: Give health care to all     False   \n",
       "4         4  Council of Europe bashes EU&UN terror blacklist    False   \n",
       "\n",
       "     author  posted_before  proliferate  viral           timestamp  month  \\\n",
       "0     polar              0        False  False 2008-01-25 03:34:06      1   \n",
       "1     polar              1        False  False 2008-01-25 03:34:35      1   \n",
       "2     polar              2        False  False 2008-01-25 03:42:03      1   \n",
       "3   fadi420              0        False  False 2008-01-25 03:54:50      1   \n",
       "4  mhermans              0        False  False 2008-01-25 15:25:20      1   \n",
       "\n",
       "   day_of_week  is_holiday                                    title_cleaned  \\\n",
       "0            4       False                scores killed in pakistan clashes   \n",
       "1            4       False                 japan resumes refuelling mission   \n",
       "2            4       False                  us presses egypt on gaza border   \n",
       "3            4       False      jump-start economy give health care to all    \n",
       "4            4       False  council of europe bashes eu&un terror blacklist   \n",
       "\n",
       "   lda_topic  sentiment_distil  sentiment_imdb  \n",
       "0          0              -1.0            -1.0  \n",
       "1          1               0.5            -0.5  \n",
       "2          1              -1.0            -1.0  \n",
       "3          0               1.0             1.0  \n",
       "4          0              -0.5             0.5  "
      ]
     },
     "execution_count": 388,
     "metadata": {},
     "output_type": "execute_result"
    }
   ],
   "source": [
    "# Now, I want to change those columns to reflect the agrrement or lack thereof between the models\n",
    "# If both models agree on the sentiment, it will stay the same\n",
    "# however, if they have differing opinions, their result will be divided by 2\n",
    "# this will produce 4 categories from the initial 2\n",
    "# I will have 'negative', 'moderately negative', 'moderately positive', and 'positive'\n",
    "def f_distil(df):\n",
    "    if df['sentiment_distil'] == df['sentiment_imdb']:\n",
    "        return df['sentiment_distil']\n",
    "    else:\n",
    "        return df['sentiment_distil']/2\n",
    "    \n",
    "def f_imdb(df):\n",
    "    if df['sentiment_imdb'] == df['sentiment_distil']:\n",
    "        return df['sentiment_imdb']\n",
    "    else:\n",
    "        return df['sentiment_imdb']/2\n",
    "\n",
    "df['sentiment_distil'] = df.apply(lambda x: f_distil(x), axis=1)\n",
    "df['sentiment_imdb'] = df.apply(lambda x: f_imdb(x), axis=1)\n",
    "\n",
    "df.head()"
   ]
  },
  {
   "cell_type": "markdown",
   "id": "excess-start",
   "metadata": {},
   "source": [
    "## Predictive modeling\n",
    "\n",
    "After the topic modeling and sentiment analysis, we have a couple of additonal features to use in another Machine Learning task. Given the dataset we have, we can try to predict the number of upvotes that the video will receive. This is a regression problem. Alternatively, we can try to predict whether or not the video will go viral, meaning that it will achieve more than 100 upvotes. Ths is a classification problem. In both of these instances, similar ML algorithms can be used. For the regression problem, I will use Linear Regression, Gradient Boosted Trees (as a better alternatve to vanilla Random Forests), and Neural Networks. For the classifcation, I will use the equivalents of those algorithms, namely the Logistic Regression, Gradient Boosted Trees, and Neural Networks, and add the Linear Discriminant Analysis. Some other popular algorithms are omited on purpose, mainly due to time limitations and, to some extent, my own preferences and beliefs or lack thereof in certain models. For instance, Support Vector Machines could yield a nice result, especially with a non-linear kernel, such as RBF. However, SVMs' training time complexity is awful. The training scales in $O(n^3)$, which on our dataset of +500.000 rows would at best take multiple hours to converge. Similarly, Random Forests were omitted, as in my experience they usually perform very similarly to, but also slightly worse than the GBT. \n",
    "\n",
    "We will first divide the dataset into three groups: train, validation, and test sets. I will train all of the models on the train set and track their performance on unseen data with the use of the validation set. After the best model is obtained, I will check its performance on the test set to get an estimate of how the model would perform in practice. Such a method is needed so that we do not overfit by optimizing the hyperparameters with respect to the validation set. \n",
    "\n",
    "I will first divide the data and save it. It is because I want to have the exact same dataset for each model for the reproducibility purposes and, given that I use a Mac, I will need to use Google Colab that enables GPU-powered computations which will be needed for training the Neural Network. \n",
    "\n",
    "Before that, I change the data to a proper format."
   ]
  },
  {
   "cell_type": "code",
   "execution_count": 407,
   "id": "curious-surface",
   "metadata": {},
   "outputs": [
    {
     "name": "stderr",
     "output_type": "stream",
     "text": [
      "`should_run_async` will not call `transform_cell` automatically in the future. Please pass the result to `transformed_cell` argument and any exception that happen during thetransform in `preprocessing_exc_tuple` in IPython 7.17 and above.\n"
     ]
    }
   ],
   "source": [
    "df['over_18'] = df['over_18'].apply(lambda x: 1 if x == True else 0)\n",
    "\n",
    "df['proliferate'] = df['proliferate'].apply(lambda x: 1 if x == True else 0)\n",
    "\n",
    "df['viral'] = df['viral'].apply(lambda x: 1 if x == True else 0)\n",
    "\n",
    "df['is_holiday'] = df['is_holiday'].apply(lambda x: 1 if x == True else 0)\n",
    "\n",
    "df['is_weekend'] = df['is_weekend'].apply(lambda x: 1 if x == True else 0)\n",
    "\n",
    "# One-Hot-Encoding\n",
    "df = pd.get_dummies(df, columns=['lda_topic'])"
   ]
  },
  {
   "cell_type": "code",
   "execution_count": null,
   "id": "automated-compact",
   "metadata": {},
   "outputs": [],
   "source": [
    "# df.to_csv('\\users\\kubawarmuz\\Desktop\\Internships\\Eluvio\\all_df.csv')"
   ]
  },
  {
   "cell_type": "markdown",
   "id": "official-theater",
   "metadata": {},
   "source": [
    "### Data split"
   ]
  },
  {
   "cell_type": "code",
   "execution_count": 548,
   "id": "balanced-sugar",
   "metadata": {},
   "outputs": [
    {
     "name": "stdout",
     "output_type": "stream",
     "text": [
      "Mean of up_votes on the train set: 18.631\n",
      "Mean of up_votes on the validation set: 18.573\n",
      "Mean of up_votes on the test set: 18.641\n",
      "\n",
      "% of viral videos in the train set: 0.099\n",
      "% of viral videos in the validation set: 0.098\n",
      "% of viral videos in the test set: 0.099\n"
     ]
    }
   ],
   "source": [
    "y_reg = df['up_votes']\n",
    "y_class = df['viral']\n",
    "\n",
    "X = df.drop(columns=['title', 'author', 'viral', 'timestamp', 'title_cleaned', 'up_votes'])\n",
    "\n",
    "colnames = X.columns\n",
    "\n",
    "# I am using the MinMaxScaler as it preserves the properties of the distributions better than other scalers\n",
    "X = MinMaxScaler().fit_transform(X)\n",
    "\n",
    "X_train_reg, X_test_reg, y_train_reg, y_test_reg = train_test_split(X, y_reg, test_size=0.2, random_state=123)\n",
    "X_train_reg, X_val_reg, y_train_reg, y_val_reg = train_test_split(X_train_reg, y_train_reg, test_size=0.2, random_state=123)\n",
    "\n",
    "X_train_class, X_test_class, y_train_class, y_test_class = train_test_split(X, y_class, test_size=0.2, random_state=123)\n",
    "X_train_class, X_val_class, y_train_class, y_val_class = train_test_split(X_train_class, y_train_class, test_size=0.2, random_state=123)\n",
    "\n",
    "print(\"Mean of up_votes on the train set:\", \"{0:.3f}\".format(y_train_reg.mean()))\n",
    "print(\"Mean of up_votes on the validation set:\", \"{0:.3f}\".format(y_val_reg.mean()))\n",
    "print(\"Mean of up_votes on the test set:\", \"{0:.3f}\".format(y_test_reg.mean()))\n",
    "print()\n",
    "print(\"% of viral videos in the train set:\", \"{0:.3f}\".format(y_train_class.mean()))\n",
    "print(\"% of viral videos in the validation set:\", \"{0:.3f}\".format(y_val_class.mean()))\n",
    "print(\"% of viral videos in the test set:\", \"{0:.3f}\".format(y_test_class.mean()))"
   ]
  },
  {
   "cell_type": "markdown",
   "id": "fleet-prototype",
   "metadata": {},
   "source": [
    "The means of y variable are similar on all datasets. Thus, we proceed with modeling."
   ]
  },
  {
   "cell_type": "markdown",
   "id": "instant-brake",
   "metadata": {},
   "source": [
    "### Regression"
   ]
  },
  {
   "cell_type": "markdown",
   "id": "outdoor-magnitude",
   "metadata": {},
   "source": [
    "#### Linear Regression"
   ]
  },
  {
   "cell_type": "code",
   "execution_count": 445,
   "id": "opened-survival",
   "metadata": {
    "tags": []
   },
   "outputs": [
    {
     "name": "stdout",
     "output_type": "stream",
     "text": [
      "Cross-validated average of MSE on train set: 964.1294507323037\n",
      "MSE on the validation set: 963.517359015588\n"
     ]
    }
   ],
   "source": [
    "lr_reg = LinearRegression()\n",
    "results = cross_val_score(lr_reg, X_train_reg, y_train_reg, cv=5, scoring='neg_mean_squared_error')\n",
    "print(\"Cross-validated average of MSE on train set:\", -np.mean(results))\n",
    "\n",
    "lr_reg = lr_reg.fit(X_train_reg, y_train_reg)\n",
    "y_val_reg_pred = lr.predict(X_val_reg)\n",
    "print(\"MSE on the validation set:\", metrics.mean_squared_error(y_val_reg, y_val_reg_pred))"
   ]
  },
  {
   "cell_type": "markdown",
   "id": "bottom-movie",
   "metadata": {},
   "source": [
    "#### Gradient Boosted Trees"
   ]
  },
  {
   "cell_type": "code",
   "execution_count": 440,
   "id": "neutral-worship",
   "metadata": {},
   "outputs": [
    {
     "name": "stdout",
     "output_type": "stream",
     "text": [
      "Fitting 5 folds for each of 10 candidates, totalling 50 fits\n",
      "[CV] END criterion=mse, learning_rate=0.1, max_depth=6, min_samples_split=2, n_estimators=50; total time=  12.6s\n",
      "[CV] END criterion=mse, learning_rate=0.1, max_depth=6, min_samples_split=2, n_estimators=50; total time=  12.6s\n",
      "[CV] END criterion=mse, learning_rate=0.1, max_depth=6, min_samples_split=2, n_estimators=50; total time=  13.3s\n",
      "[CV] END criterion=mse, learning_rate=0.1, max_depth=6, min_samples_split=2, n_estimators=50; total time=  12.4s\n",
      "[CV] END criterion=mse, learning_rate=0.1, max_depth=6, min_samples_split=2, n_estimators=50; total time=  12.0s\n",
      "[CV] END criterion=mse, learning_rate=0.1, max_depth=6, min_samples_split=2, n_estimators=200; total time=  51.7s\n",
      "[CV] END criterion=mse, learning_rate=0.1, max_depth=6, min_samples_split=2, n_estimators=200; total time=  50.5s\n",
      "[CV] END criterion=mse, learning_rate=0.1, max_depth=6, min_samples_split=2, n_estimators=200; total time=  49.8s\n",
      "[CV] END criterion=mse, learning_rate=0.1, max_depth=6, min_samples_split=2, n_estimators=200; total time=  50.4s\n",
      "[CV] END criterion=mse, learning_rate=0.1, max_depth=6, min_samples_split=2, n_estimators=200; total time=  51.1s\n",
      "[CV] END criterion=mse, learning_rate=0.1, max_depth=10, min_samples_split=2, n_estimators=100; total time=  35.1s\n",
      "[CV] END criterion=mse, learning_rate=0.1, max_depth=10, min_samples_split=2, n_estimators=100; total time=  35.2s\n",
      "[CV] END criterion=mse, learning_rate=0.1, max_depth=10, min_samples_split=2, n_estimators=100; total time=  37.5s\n",
      "[CV] END criterion=mse, learning_rate=0.1, max_depth=10, min_samples_split=2, n_estimators=100; total time=  36.8s\n",
      "[CV] END criterion=mse, learning_rate=0.1, max_depth=10, min_samples_split=2, n_estimators=100; total time=  35.5s\n",
      "[CV] END criterion=mse, learning_rate=0.1, max_depth=6, min_samples_split=10, n_estimators=200; total time=  50.1s\n",
      "[CV] END criterion=mse, learning_rate=0.1, max_depth=6, min_samples_split=10, n_estimators=200; total time=  52.5s\n",
      "[CV] END criterion=mse, learning_rate=0.1, max_depth=6, min_samples_split=10, n_estimators=200; total time=  50.5s\n",
      "[CV] END criterion=mse, learning_rate=0.1, max_depth=6, min_samples_split=10, n_estimators=200; total time=  50.0s\n",
      "[CV] END criterion=mse, learning_rate=0.1, max_depth=6, min_samples_split=10, n_estimators=200; total time=  50.3s\n",
      "[CV] END criterion=mse, learning_rate=0.1, max_depth=3, min_samples_split=10, n_estimators=200; total time=  28.8s\n",
      "[CV] END criterion=mse, learning_rate=0.1, max_depth=3, min_samples_split=10, n_estimators=200; total time=  28.7s\n",
      "[CV] END criterion=mse, learning_rate=0.1, max_depth=3, min_samples_split=10, n_estimators=200; total time=  28.8s\n",
      "[CV] END criterion=mse, learning_rate=0.1, max_depth=3, min_samples_split=10, n_estimators=200; total time=  28.8s\n",
      "[CV] END criterion=mse, learning_rate=0.1, max_depth=3, min_samples_split=10, n_estimators=200; total time=  28.6s\n",
      "[CV] END criterion=mse, learning_rate=0.01, max_depth=10, min_samples_split=2, n_estimators=200; total time= 1.0min\n",
      "[CV] END criterion=mse, learning_rate=0.01, max_depth=10, min_samples_split=2, n_estimators=200; total time= 1.0min\n",
      "[CV] END criterion=mse, learning_rate=0.01, max_depth=10, min_samples_split=2, n_estimators=200; total time= 1.0min\n",
      "[CV] END criterion=mse, learning_rate=0.01, max_depth=10, min_samples_split=2, n_estimators=200; total time= 1.0min\n",
      "[CV] END criterion=mse, learning_rate=0.01, max_depth=10, min_samples_split=2, n_estimators=200; total time= 1.0min\n",
      "[CV] END criterion=mse, learning_rate=0.01, max_depth=3, min_samples_split=10, n_estimators=200; total time=  29.1s\n",
      "[CV] END criterion=mse, learning_rate=0.01, max_depth=3, min_samples_split=10, n_estimators=200; total time=  28.8s\n",
      "[CV] END criterion=mse, learning_rate=0.01, max_depth=3, min_samples_split=10, n_estimators=200; total time=  28.6s\n",
      "[CV] END criterion=mse, learning_rate=0.01, max_depth=3, min_samples_split=10, n_estimators=200; total time=  28.7s\n",
      "[CV] END criterion=mse, learning_rate=0.01, max_depth=3, min_samples_split=10, n_estimators=200; total time=  28.8s\n",
      "[CV] END criterion=mse, learning_rate=0.01, max_depth=10, min_samples_split=2, n_estimators=100; total time=  30.7s\n",
      "[CV] END criterion=mse, learning_rate=0.01, max_depth=10, min_samples_split=2, n_estimators=100; total time=  30.7s\n",
      "[CV] END criterion=mse, learning_rate=0.01, max_depth=10, min_samples_split=2, n_estimators=100; total time=  31.5s\n",
      "[CV] END criterion=mse, learning_rate=0.01, max_depth=10, min_samples_split=2, n_estimators=100; total time=  30.8s\n",
      "[CV] END criterion=mse, learning_rate=0.01, max_depth=10, min_samples_split=2, n_estimators=100; total time=  30.5s\n",
      "[CV] END criterion=mse, learning_rate=0.1, max_depth=10, min_samples_split=2, n_estimators=50; total time=  16.9s\n",
      "[CV] END criterion=mse, learning_rate=0.1, max_depth=10, min_samples_split=2, n_estimators=50; total time=  19.2s\n",
      "[CV] END criterion=mse, learning_rate=0.1, max_depth=10, min_samples_split=2, n_estimators=50; total time=  21.1s\n",
      "[CV] END criterion=mse, learning_rate=0.1, max_depth=10, min_samples_split=2, n_estimators=50; total time=  17.8s\n",
      "[CV] END criterion=mse, learning_rate=0.1, max_depth=10, min_samples_split=2, n_estimators=50; total time=  18.4s\n",
      "[CV] END criterion=mse, learning_rate=0.01, max_depth=3, min_samples_split=2, n_estimators=50; total time=   7.4s\n",
      "[CV] END criterion=mse, learning_rate=0.01, max_depth=3, min_samples_split=2, n_estimators=50; total time=   7.4s\n",
      "[CV] END criterion=mse, learning_rate=0.01, max_depth=3, min_samples_split=2, n_estimators=50; total time=   8.0s\n",
      "[CV] END criterion=mse, learning_rate=0.01, max_depth=3, min_samples_split=2, n_estimators=50; total time=   8.8s\n",
      "[CV] END criterion=mse, learning_rate=0.01, max_depth=3, min_samples_split=2, n_estimators=50; total time=   8.0s\n",
      "Best parameters: {'n_estimators': 200, 'min_samples_split': 10, 'max_depth': 3, 'learning_rate': 0.1, 'criterion': 'mse'}\n"
     ]
    }
   ],
   "source": [
    "# values for parameter grid\n",
    "learning_rate = [0.1, 0.01] \n",
    "n_estimators = [50, 100, 200]\n",
    "criterion = ['mse']\n",
    "min_samples_split = [2, 10]\n",
    "max_depth = [3, 6, 10]\n",
    "\n",
    "# Create the random grid\n",
    "random_grid = {\n",
    "    'learning_rate': learning_rate,\n",
    "    'n_estimators': n_estimators,\n",
    "    'criterion': criterion,\n",
    "    'min_samples_split': min_samples_split,\n",
    "    'max_depth': max_depth\n",
    "    }\n",
    "\n",
    "gbt_reg = GradientBoostingRegressor()\n",
    "\n",
    "#using the RandomizedSearchCV from scikit-learn to run the CV and obtain the parameters\n",
    "gbt_reg_random = RandomizedSearchCV(estimator = gbt_reg, param_distributions = random_grid, cv = 5, verbose=2, random_state=123, n_jobs=1)\n",
    "\n",
    "# Fit the random search model\n",
    "gbt_reg_random.fit(X_train_reg, y_train_reg)\n",
    "print(\"Best parameters:\", gbt_reg_random.best_params_)"
   ]
  },
  {
   "cell_type": "code",
   "execution_count": 441,
   "id": "restricted-valve",
   "metadata": {},
   "outputs": [
    {
     "name": "stdout",
     "output_type": "stream",
     "text": [
      "Cross-validated average of MSE on train set: 964.051483374314\n",
      "MSE on the validation set: 963.0746043788669\n"
     ]
    }
   ],
   "source": [
    "gbt_reg = GradientBoostingRegressor(n_estimators = 200, \n",
    "                                    min_samples_split = 10, \n",
    "                                    max_depth = 3, \n",
    "                                    learning_rate = 0.1, \n",
    "                                    criterion = 'mse')\n",
    "\n",
    "results = cross_val_score(gbt_reg, X_train_reg, y_train_reg, cv=5, scoring='neg_mean_squared_error')\n",
    "print(\"Cross-validated average of MSE on train set:\", -np.mean(results))\n",
    "\n",
    "gbt_reg = gbt_reg.fit(X_train_reg, y_train_reg)\n",
    "y_val_reg_pred = gbt_reg.predict(X_val_reg)\n",
    "print(\"MSE on the validation set:\", metrics.mean_squared_error(y_val_reg, y_val_reg_pred))"
   ]
  },
  {
   "cell_type": "markdown",
   "id": "rational-noise",
   "metadata": {},
   "source": [
    "The performance of the algorithms on the rregression problem seem to be far from perfect. The Neural Network achieved a slightly better result."
   ]
  },
  {
   "cell_type": "markdown",
   "id": "stock-address",
   "metadata": {},
   "source": [
    "### Classification\n",
    "\n",
    "We have a very unbalanced dataset. Because of that, I will use F1 score as the main metric of interest. I will compare model performance on other metrics, such as ROC AUC, P-R curve AUC, accuracy, precision, and recall as well, however, F1 will constitute the most important one.\n",
    "\n",
    "In my analysis of the results, I allow myself the opportunity to choose a threshold. In practice, it is up to the ML practicioner to choose which threshold is used on production (when deployment is the end goal). Choosing a threshold will depend on the case. For instance, if one wanted to minimize the false negatives (e.g. in a medical setting), they would set the threshold in such a way so that to maximize recall. "
   ]
  },
  {
   "cell_type": "markdown",
   "id": "raising-japanese",
   "metadata": {},
   "source": [
    "#### Logistic Regression"
   ]
  },
  {
   "cell_type": "code",
   "execution_count": 549,
   "id": "personal-mobile",
   "metadata": {},
   "outputs": [
    {
     "name": "stdout",
     "output_type": "stream",
     "text": [
      "CPU times: user 5.49 s, sys: 837 ms, total: 6.33 s\n",
      "Wall time: 1.83 s\n"
     ]
    }
   ],
   "source": [
    "%%time\n",
    "clf_LR = LogisticRegression()\n",
    "clf_LR = clf_LR.fit(X_train_class, y_train_class)\n",
    "y_val_class_pred_proba = clf_LR.predict_proba(X_val_class)[:,1]"
   ]
  },
  {
   "cell_type": "code",
   "execution_count": 550,
   "id": "conditional-circular",
   "metadata": {},
   "outputs": [
    {
     "name": "stdout",
     "output_type": "stream",
     "text": [
      "ROC AUC: 0.5518370698363724\n"
     ]
    },
    {
     "data": {
      "image/png": "[encoded data removed]",
      "text/plain": [
       "<Figure size 720x576 with 1 Axes>"
      ]
     },
     "metadata": {
      "needs_background": "light"
     },
     "output_type": "display_data"
    }
   ],
   "source": [
    "false_positive_rate, true_positive_rate, thresholds = metrics.roc_curve(y_val_class, y_val_class_pred_proba)\n",
    "\n",
    "roc_auc = metrics.auc(false_positive_rate, true_positive_rate)\n",
    "print('ROC AUC:', roc_auc)\n",
    "\n",
    "lw = 2\n",
    "plt.figure()\n",
    "plt.plot(false_positive_rate, true_positive_rate, color='darkorange',\n",
    "         lw=lw, label='ROC curve (area = %0.2f)' % roc_auc)\n",
    "plt.plot([0, 1], [0, 1], color='navy', lw=lw, linestyle='--')\n",
    "plt.xlim([0.0, 1.0])\n",
    "plt.ylim([0.0, 1.05])\n",
    "plt.xlabel('False Positive Rate')\n",
    "plt.ylabel('True Positive Rate')\n",
    "plt.title('ROC Curve of the Logstic Regression model')\n",
    "plt.legend(loc=\"lower right\")\n",
    "plt.show()"
   ]
  },
  {
   "cell_type": "code",
   "execution_count": 551,
   "id": "foreign-thumbnail",
   "metadata": {},
   "outputs": [
    {
     "data": {
      "text/plain": [
       "<sklearn.metrics._plot.precision_recall_curve.PrecisionRecallDisplay at 0x7f83bf726e90>"
      ]
     },
     "execution_count": 551,
     "metadata": {},
     "output_type": "execute_result"
    },
    {
     "data": {
      "text/plain": [
       "<Figure size 720x576 with 0 Axes>"
      ]
     },
     "metadata": {},
     "output_type": "display_data"
    },
    {
     "data": {
      "image/png": "[encoded data removed]",
      "text/plain": [
       "<Figure size 720x576 with 1 Axes>"
      ]
     },
     "metadata": {
      "needs_background": "light"
     },
     "output_type": "display_data"
    }
   ],
   "source": [
    "plt.figure()\n",
    "metrics.plot_precision_recall_curve(clf_LR, X_val_class, y_val_class)"
   ]
  },
  {
   "cell_type": "code",
   "execution_count": 552,
   "id": "correct-fortune",
   "metadata": {},
   "outputs": [
    {
     "data": {
      "text/plain": [
       "Text(0, 0.5, 'Frequency')"
      ]
     },
     "execution_count": 552,
     "metadata": {},
     "output_type": "execute_result"
    },
    {
     "data": {
      "image/png": "[encoded data removed]",
      "text/plain": [
       "<Figure size 720x576 with 1 Axes>"
      ]
     },
     "metadata": {
      "needs_background": "light"
     },
     "output_type": "display_data"
    }
   ],
   "source": [
    "# Displayng the distribution of probabilities calculated by the model\n",
    "plt.figure()\n",
    "plt.hist(y_val_class_pred_proba)\n",
    "plt.title(\"Distribution of probabilities calculated by the Logistic Regression\")\n",
    "plt.xlabel(\"P(viral)\")\n",
    "plt.ylabel(\"Frequency\")"
   ]
  },
  {
   "cell_type": "code",
   "execution_count": 553,
   "id": "western-royal",
   "metadata": {},
   "outputs": [
    {
     "name": "stdout",
     "output_type": "stream",
     "text": [
      "For 0.09 threshold, the obtained metrics are:\n",
      "F1 Score = 0.1842854016196104\n",
      "Precision = 0.10648274251916418\n",
      "Accuracy = 0.40534868308009525\n",
      "\n",
      "Confusion matrix:\n",
      "[[27554 45925]\n",
      " [ 2526  5473]]\n",
      "\n",
      "Normalized confusion matrix:\n",
      "[[0.37499149 0.62500851]\n",
      " [0.31578947 0.68421053]]\n"
     ]
    }
   ],
   "source": [
    "# Finding the threshold that maximizes F1 score\n",
    "\n",
    "# this function takes a threshold and a set of probabilities calculated by the model \n",
    "# and converts these into 1s and 0s based on the specified threshold\n",
    "def metrics_transformation(probabilities, threshold):\n",
    "    preds = []\n",
    "    for prob in probabilities:\n",
    "        if prob > threshold:\n",
    "            preds.append(1)\n",
    "        else:\n",
    "            preds.append(0)\n",
    "    return preds\n",
    "\n",
    "thresholds = np.linspace(0.05, 0.20, 10)\n",
    "\n",
    "def find_max_F1_threshold(predicted_probabilities, true_y):\n",
    "    thresholds = [i/100 for i in range(100)]\n",
    "    max_F1 = -1\n",
    "    best_threshold = -1\n",
    "    for threshold in thresholds:\n",
    "        preds = metrics_transformation(predicted_probabilities, threshold)\n",
    "        F1 = metrics.f1_score(true_y, preds)\n",
    "        if F1>max_F1:\n",
    "            best_threshold = threshold\n",
    "            max_F1 = F1\n",
    "    return best_threshold\n",
    "\n",
    "\n",
    "def print_metrics(threshold, predicted_probabilities, true_y):\n",
    "    preds = metrics_transformation(predicted_probabilities, threshold)\n",
    "    cm = metrics.confusion_matrix(true_y, preds)\n",
    "    precision = metrics.precision_score(true_y, preds)\n",
    "    accuracy = metrics.accuracy_score(true_y, preds)\n",
    "    f1 = metrics.f1_score(true_y, preds)\n",
    "    print('For',threshold,'threshold, the obtained metrics are:')\n",
    "    print(\"F1 Score =\", f1)\n",
    "    print(\"Precision =\", precision)\n",
    "    print(\"Accuracy =\", accuracy)\n",
    "    print()\n",
    "    print(\"Confusion matrix:\")\n",
    "    print(cm)\n",
    "    print()\n",
    "    cm_norm = metrics.confusion_matrix(true_y, preds, normalize='true')\n",
    "    print(\"Normalized confusion matrix:\")\n",
    "    print(cm_norm)\n",
    "\n",
    "\n",
    "\n",
    "best_threshold = find_max_F1_threshold(y_val_class_pred_proba, y_val_class)\n",
    "print_metrics(best_threshold, y_val_class_pred_proba, y_val_class)"
   ]
  },
  {
   "cell_type": "markdown",
   "id": "bronze-sister",
   "metadata": {},
   "source": [
    "#### Linear Discriminant Analysis"
   ]
  },
  {
   "cell_type": "code",
   "execution_count": 554,
   "id": "incomplete-triple",
   "metadata": {},
   "outputs": [
    {
     "name": "stdout",
     "output_type": "stream",
     "text": [
      "CPU times: user 980 ms, sys: 209 ms, total: 1.19 s\n",
      "Wall time: 933 ms\n"
     ]
    }
   ],
   "source": [
    "%%time\n",
    "clf_LDA = LDA(solver='eigen', shrinkage='auto', n_components = 1)\n",
    "clf_LDA = clf_LDA.fit(X_train_class, y_train_class)\n",
    "y_val_class_pred_proba = clf_LDA.predict_proba(X_val_class)[:,1]"
   ]
  },
  {
   "cell_type": "code",
   "execution_count": 555,
   "id": "funky-daily",
   "metadata": {},
   "outputs": [
    {
     "name": "stdout",
     "output_type": "stream",
     "text": [
      "ROC AUC: 0.5518456243699443\n"
     ]
    },
    {
     "data": {
      "image/png": "[encoded data removed]",
      "text/plain": [
       "<Figure size 720x576 with 1 Axes>"
      ]
     },
     "metadata": {
      "needs_background": "light"
     },
     "output_type": "display_data"
    }
   ],
   "source": [
    "false_positive_rate, true_positive_rate, thresholds = metrics.roc_curve(y_val_class, y_val_class_pred_proba)\n",
    "\n",
    "roc_auc = metrics.auc(false_positive_rate, true_positive_rate)\n",
    "print('ROC AUC:', roc_auc)\n",
    "\n",
    "lw = 2\n",
    "plt.figure()\n",
    "plt.plot(false_positive_rate, true_positive_rate, color='darkorange',\n",
    "         lw=lw, label='ROC curve (area = %0.2f)' % roc_auc)\n",
    "plt.plot([0, 1], [0, 1], color='navy', lw=lw, linestyle='--')\n",
    "plt.xlim([0.0, 1.0])\n",
    "plt.ylim([0.0, 1.05])\n",
    "plt.xlabel('False Positive Rate')\n",
    "plt.ylabel('True Positive Rate')\n",
    "plt.title('ROC Curve of the LDA model')\n",
    "plt.legend(loc=\"lower right\")\n",
    "plt.show()"
   ]
  },
  {
   "cell_type": "code",
   "execution_count": 556,
   "id": "designing-alberta",
   "metadata": {},
   "outputs": [
    {
     "data": {
      "text/plain": [
       "<sklearn.metrics._plot.precision_recall_curve.PrecisionRecallDisplay at 0x7f83bf89d9d0>"
      ]
     },
     "execution_count": 556,
     "metadata": {},
     "output_type": "execute_result"
    },
    {
     "data": {
      "text/plain": [
       "<Figure size 720x576 with 0 Axes>"
      ]
     },
     "metadata": {},
     "output_type": "display_data"
    },
    {
     "data": {
      "image/png": "[encoded data removed]",
      "text/plain": [
       "<Figure size 720x576 with 1 Axes>"
      ]
     },
     "metadata": {
      "needs_background": "light"
     },
     "output_type": "display_data"
    }
   ],
   "source": [
    "plt.figure()\n",
    "metrics.plot_precision_recall_curve(clf_LDA, X_val_class, y_val_class)"
   ]
  },
  {
   "cell_type": "code",
   "execution_count": 557,
   "id": "particular-ebony",
   "metadata": {},
   "outputs": [
    {
     "data": {
      "text/plain": [
       "Text(0, 0.5, 'Frequency')"
      ]
     },
     "execution_count": 557,
     "metadata": {},
     "output_type": "execute_result"
    },
    {
     "data": {
      "image/png": "[encoded data removed]",
      "text/plain": [
       "<Figure size 720x576 with 1 Axes>"
      ]
     },
     "metadata": {
      "needs_background": "light"
     },
     "output_type": "display_data"
    }
   ],
   "source": [
    "# Displayng the distribution of probabilities calculated by the model\n",
    "plt.figure()\n",
    "plt.hist(y_val_class_pred_proba)\n",
    "plt.title(\"Distribution of probabilities calculated by the LDA\")\n",
    "plt.xlabel(\"P(viral)\")\n",
    "plt.ylabel(\"Frequency\")"
   ]
  },
  {
   "cell_type": "code",
   "execution_count": 558,
   "id": "cutting-exclusion",
   "metadata": {},
   "outputs": [
    {
     "name": "stdout",
     "output_type": "stream",
     "text": [
      "For 0.09 threshold, the obtained metrics are:\n",
      "F1 Score = 0.18409495758302616\n",
      "Precision = 0.10716632443531827\n",
      "Accuracy = 0.43222710424899974\n",
      "\n",
      "Confusion matrix:\n",
      "[[29998 43481]\n",
      " [ 2780  5219]]\n",
      "\n",
      "Normalized confusion matrix:\n",
      "[[0.4082527  0.5917473 ]\n",
      " [0.34754344 0.65245656]]\n"
     ]
    }
   ],
   "source": [
    "best_threshold = find_max_F1_threshold(y_val_class_pred_proba, y_val_class)\n",
    "print_metrics(best_threshold, y_val_class_pred_proba, y_val_class)"
   ]
  },
  {
   "cell_type": "markdown",
   "id": "western-bracket",
   "metadata": {},
   "source": [
    "#### Gradient Boosted Trees"
   ]
  },
  {
   "cell_type": "code",
   "execution_count": 559,
   "id": "driven-sound",
   "metadata": {},
   "outputs": [
    {
     "name": "stdout",
     "output_type": "stream",
     "text": [
      "CPU times: user 30.9 s, sys: 990 ms, total: 31.9 s\n",
      "Wall time: 32.6 s\n"
     ]
    }
   ],
   "source": [
    "%%time\n",
    "clf_GBT = GradientBoostingClassifier()\n",
    "clf_GBT = clf_GBT.fit(X_train_class, y_train_class)\n",
    "y_val_class_pred_proba = clf_GBT.predict_proba(X_val_class)[:,1]"
   ]
  },
  {
   "cell_type": "code",
   "execution_count": 560,
   "id": "disturbed-channel",
   "metadata": {},
   "outputs": [
    {
     "name": "stdout",
     "output_type": "stream",
     "text": [
      "ROC AUC: 0.5598113268357023\n"
     ]
    },
    {
     "data": {
      "image/png": "[encoded data removed]",
      "text/plain": [
       "<Figure size 720x576 with 1 Axes>"
      ]
     },
     "metadata": {
      "needs_background": "light"
     },
     "output_type": "display_data"
    }
   ],
   "source": [
    "false_positive_rate, true_positive_rate, thresholds = metrics.roc_curve(y_val_class, y_val_class_pred_proba)\n",
    "\n",
    "roc_auc = metrics.auc(false_positive_rate, true_positive_rate)\n",
    "print('ROC AUC:', roc_auc)\n",
    "\n",
    "lw = 2\n",
    "plt.figure()\n",
    "plt.plot(false_positive_rate, true_positive_rate, color='darkorange',\n",
    "         lw=lw, label='ROC curve (area = %0.2f)' % roc_auc)\n",
    "plt.plot([0, 1], [0, 1], color='navy', lw=lw, linestyle='--')\n",
    "plt.xlim([0.0, 1.0])\n",
    "plt.ylim([0.0, 1.05])\n",
    "plt.xlabel('False Positive Rate')\n",
    "plt.ylabel('True Positive Rate')\n",
    "plt.title('ROC Curve of the GBT model')\n",
    "plt.legend(loc=\"lower right\")\n",
    "plt.show()"
   ]
  },
  {
   "cell_type": "code",
   "execution_count": 561,
   "id": "electoral-quantity",
   "metadata": {},
   "outputs": [
    {
     "data": {
      "text/plain": [
       "<sklearn.metrics._plot.precision_recall_curve.PrecisionRecallDisplay at 0x7f83bfa3bad0>"
      ]
     },
     "execution_count": 561,
     "metadata": {},
     "output_type": "execute_result"
    },
    {
     "data": {
      "text/plain": [
       "<Figure size 720x576 with 0 Axes>"
      ]
     },
     "metadata": {},
     "output_type": "display_data"
    },
    {
     "data": {
      "image/png": "[encoded data removed]",
      "text/plain": [
       "<Figure size 720x576 with 1 Axes>"
      ]
     },
     "metadata": {
      "needs_background": "light"
     },
     "output_type": "display_data"
    }
   ],
   "source": [
    "plt.figure()\n",
    "metrics.plot_precision_recall_curve(clf_GBT, X_val_class, y_val_class)"
   ]
  },
  {
   "cell_type": "code",
   "execution_count": 562,
   "id": "capital-elizabeth",
   "metadata": {},
   "outputs": [
    {
     "data": {
      "text/plain": [
       "Text(0, 0.5, 'Frequency')"
      ]
     },
     "execution_count": 562,
     "metadata": {},
     "output_type": "execute_result"
    },
    {
     "data": {
      "image/png": "[encoded data removed]",
      "text/plain": [
       "<Figure size 720x576 with 1 Axes>"
      ]
     },
     "metadata": {
      "needs_background": "light"
     },
     "output_type": "display_data"
    }
   ],
   "source": [
    "# Displayng the distribution of probabilities calculated by the model\n",
    "plt.figure()\n",
    "plt.hist(y_val_class_pred_proba)\n",
    "plt.title(\"Distribution of probabilities calculated by the Gradient Boosted Trees\")\n",
    "plt.xlabel(\"P(viral)\")\n",
    "plt.ylabel(\"Frequency\")"
   ]
  },
  {
   "cell_type": "code",
   "execution_count": 563,
   "id": "native-cartoon",
   "metadata": {},
   "outputs": [
    {
     "name": "stdout",
     "output_type": "stream",
     "text": [
      "For 0.09 threshold, the obtained metrics are:\n",
      "F1 Score = 0.188253519229474\n",
      "Precision = 0.10877814318239312\n",
      "Accuracy = 0.40833108323719286\n",
      "\n",
      "Confusion matrix:\n",
      "[[27680 45799]\n",
      " [ 2409  5590]]\n",
      "\n",
      "Normalized confusion matrix:\n",
      "[[0.37670627 0.62329373]\n",
      " [0.30116265 0.69883735]]\n"
     ]
    }
   ],
   "source": [
    "best_threshold = find_max_F1_threshold(y_val_class_pred_proba, y_val_class)\n",
    "print_metrics(best_threshold, y_val_class_pred_proba, y_val_class)"
   ]
  },
  {
   "cell_type": "markdown",
   "id": "extensive-canyon",
   "metadata": {},
   "source": [
    "All the models' performance is far from perfect. It might be the case that the problem is hard in nature and with the features given it is really hard to achieve a good performance. However, it can also be for other reasons. One of them that comes to mind is the fact that the dataset is highly unbalanced. This might skew the distribution and make the model overpredict the majority class. In fact, as we can see by differing metrics values at different (lower) thresholds, this is the case. We could try to make the model 'focus' on the positive samples more by changing the sampling method. In particular, we can achieve a more balanced distribution on the dependent varibale by either downsampling, oversampling, or a mixture of both. These approaches are tried below."
   ]
  },
  {
   "cell_type": "markdown",
   "id": "owned-chain",
   "metadata": {},
   "source": [
    "#### Downsampling"
   ]
  },
  {
   "cell_type": "code",
   "execution_count": 564,
   "id": "touched-kitty",
   "metadata": {},
   "outputs": [
    {
     "name": "stdout",
     "output_type": "stream",
     "text": [
      "% of viral videos on the train set: 0.500\n",
      "% of viral videos on the validation set: 0.098\n",
      "% of viral videos on the test set: 0.099\n"
     ]
    }
   ],
   "source": [
    "y = df['viral']\n",
    "X = df.copy(deep=False)\n",
    "X = X.drop(columns=['title', 'author', 'timestamp', 'title_cleaned', 'up_votes', 'month', 'day_of_week'])\n",
    "\n",
    "X_train, X_test, y_train, y_test = train_test_split(X, y, test_size=0.2, random_state=123)\n",
    "X_train, X_val, y_train, y_val = train_test_split(X_train, y_train, test_size=0.2, random_state=123)\n",
    "\n",
    "df_train_negative = X_train[X_train['viral']==0]\n",
    "df_train_positive = X_train[X_train['viral']==1]\n",
    "\n",
    "# downsampling\n",
    "# here, I am taking downsampling to a ratio of 1\n",
    "# however, it is possible I could achieve a better result if another downsampling ratio was chosen\n",
    "# to find the optimal one, I would need to run experiments with different ratios and that's beyond the scope of this assignment\n",
    "df_train_negative = df_train_negative.sample(len(df_train_positive))\n",
    "\n",
    "X_train = pd.concat([df_train_negative, df_train_positive])\n",
    "\n",
    "y_train = X_train['viral']\n",
    "X_train = X_train.drop(columns=['viral'])\n",
    "\n",
    "X_val = X_val.drop(columns=['viral'])\n",
    "X_test = X_test.drop(columns=['viral'])\n",
    "\n",
    "X_train = MinMaxScaler().fit_transform(X_train)\n",
    "X_val = MinMaxScaler().fit_transform(X_val)\n",
    "\n",
    "print(\"% of viral videos on the train set:\", \"{0:.3f}\".format(y_train.mean()))\n",
    "print(\"% of viral videos on the validation set:\", \"{0:.3f}\".format(y_val.mean()))\n",
    "print(\"% of viral videos on the test set:\", \"{0:.3f}\".format(y_test.mean()))"
   ]
  },
  {
   "cell_type": "code",
   "execution_count": 565,
   "id": "becoming-notion",
   "metadata": {},
   "outputs": [
    {
     "name": "stdout",
     "output_type": "stream",
     "text": [
      "CPU times: user 2.8 s, sys: 121 ms, total: 2.92 s\n",
      "Wall time: 2.96 s\n"
     ]
    }
   ],
   "source": [
    "%%time\n",
    "clf_GBT = GradientBoostingClassifier().fit(X_train, y_train)\n",
    "y_pred_val = clf_GBT.predict_proba(X_val)[:,1]"
   ]
  },
  {
   "cell_type": "code",
   "execution_count": 566,
   "id": "renewable-allowance",
   "metadata": {},
   "outputs": [
    {
     "name": "stdout",
     "output_type": "stream",
     "text": [
      "ROC AUC: 0.5564667594159813\n"
     ]
    },
    {
     "data": {
      "image/png": "[encoded data removed]",
      "text/plain": [
       "<Figure size 720x576 with 1 Axes>"
      ]
     },
     "metadata": {
      "needs_background": "light"
     },
     "output_type": "display_data"
    }
   ],
   "source": [
    "false_positive_rate, true_positive_rate, thresholds = metrics.roc_curve(y_val, y_pred_val)\n",
    "\n",
    "roc_auc = metrics.auc(false_positive_rate, true_positive_rate)\n",
    "print('ROC AUC:', roc_auc)\n",
    "\n",
    "lw = 2\n",
    "plt.figure()\n",
    "plt.plot(false_positive_rate, true_positive_rate, color='darkorange',\n",
    "         lw=lw, label='ROC curve (area = %0.2f)' % roc_auc)\n",
    "plt.plot([0, 1], [0, 1], color='navy', lw=lw, linestyle='--')\n",
    "plt.xlim([0.0, 1.0])\n",
    "plt.ylim([0.0, 1.05])\n",
    "plt.xlabel('False Positive Rate')\n",
    "plt.ylabel('True Positive Rate')\n",
    "plt.title('ROC Curve on the Gradient Boosted Trees model with downsampling')\n",
    "plt.legend(loc=\"lower right\")\n",
    "plt.show()"
   ]
  },
  {
   "cell_type": "code",
   "execution_count": 567,
   "id": "hidden-prescription",
   "metadata": {},
   "outputs": [
    {
     "data": {
      "text/plain": [
       "<sklearn.metrics._plot.precision_recall_curve.PrecisionRecallDisplay at 0x7f83c0240190>"
      ]
     },
     "execution_count": 567,
     "metadata": {},
     "output_type": "execute_result"
    },
    {
     "data": {
      "text/plain": [
       "<Figure size 720x576 with 0 Axes>"
      ]
     },
     "metadata": {},
     "output_type": "display_data"
    },
    {
     "data": {
      "image/png": "[encoded data removed]",
      "text/plain": [
       "<Figure size 720x576 with 1 Axes>"
      ]
     },
     "metadata": {
      "needs_background": "light"
     },
     "output_type": "display_data"
    }
   ],
   "source": [
    "plt.figure()\n",
    "metrics.plot_precision_recall_curve(clf_GBT, X_val, y_val)"
   ]
  },
  {
   "cell_type": "code",
   "execution_count": 568,
   "id": "accessory-douglas",
   "metadata": {},
   "outputs": [
    {
     "data": {
      "text/plain": [
       "Text(0, 0.5, 'Frequency')"
      ]
     },
     "execution_count": 568,
     "metadata": {},
     "output_type": "execute_result"
    },
    {
     "data": {
      "image/png": "[encoded data removed]",
      "text/plain": [
       "<Figure size 720x576 with 1 Axes>"
      ]
     },
     "metadata": {
      "needs_background": "light"
     },
     "output_type": "display_data"
    }
   ],
   "source": [
    "# Displayng the distribution of probabilities calculated by the model\n",
    "plt.figure()\n",
    "plt.hist(y_pred_val)\n",
    "plt.title(\"Distribution of probabilities calculated by the Gradient Boosted Trees\")\n",
    "plt.xlabel(\"P(viral)\")\n",
    "plt.ylabel(\"Frequency\")"
   ]
  },
  {
   "cell_type": "code",
   "execution_count": 569,
   "id": "urban-chuck",
   "metadata": {},
   "outputs": [
    {
     "name": "stdout",
     "output_type": "stream",
     "text": [
      "For 0.49 threshold, the obtained metrics are:\n",
      "F1 Score = 0.18734586450583385\n",
      "Precision = 0.11228697769165798\n",
      "Accuracy = 0.5187289820565061\n",
      "\n",
      "Confusion matrix:\n",
      "[[37745 35734]\n",
      " [ 3479  4520]]\n",
      "\n",
      "Normalized confusion matrix:\n",
      "[[0.51368418 0.48631582]\n",
      " [0.43492937 0.56507063]]\n"
     ]
    }
   ],
   "source": [
    "best_threshold = find_max_F1_threshold(y_pred_val, y_val)\n",
    "print_metrics(best_threshold, y_pred_val, y_val)"
   ]
  },
  {
   "cell_type": "markdown",
   "id": "affected-affairs",
   "metadata": {},
   "source": [
    "#### Oversampling"
   ]
  },
  {
   "cell_type": "code",
   "execution_count": 570,
   "id": "suspended-special",
   "metadata": {},
   "outputs": [
    {
     "name": "stdout",
     "output_type": "stream",
     "text": [
      "Before OverSampling, counts of label '1': 32165\n",
      "Before OverSampling, counts of label '0': 293745\n",
      "After OverSampling, counts of label '1': 146872\n",
      "After OverSampling, counts of label '0': 293745\n"
     ]
    }
   ],
   "source": [
    "# I will use Synthetic Minority Oversampling TEchnique in this project\n",
    "# the parameter 'sampling_strategy' asks the question\n",
    "# \"How unbalanced do you want the dataset to be after the oversampling?\"\n",
    "# In our model, let's use 0.5\n",
    "\n",
    "y = df['viral']\n",
    "X = df.copy(deep=False)\n",
    "X = X.drop(columns=['title', 'author', 'timestamp', 'title_cleaned', 'up_votes', 'month', 'day_of_week', 'viral'])\n",
    "\n",
    "X = MinMaxScaler().fit_transform(X)\n",
    "\n",
    "X_train, X_test, y_train, y_test = train_test_split(X, y, test_size=0.2, random_state=156)\n",
    "X_train, X_val, y_train, y_val = train_test_split(X_train, y_train, test_size=0.2, random_state=156)\n",
    "\n",
    "print(\"Before OverSampling, counts of label '1': {}\".format(sum(y_train == 1))) \n",
    "print(\"Before OverSampling, counts of label '0': {}\".format(sum(y_train == 0))) \n",
    "\n",
    "sm = SMOTE(sampling_strategy=0.5) \n",
    "X_train, y_train = sm.fit_resample(X_train, y_train.ravel())\n",
    "\n",
    "print(\"After OverSampling, counts of label '1': {}\".format(sum(y_train == 1))) \n",
    "print(\"After OverSampling, counts of label '0': {}\".format(sum(y_train == 0))) "
   ]
  },
  {
   "cell_type": "code",
   "execution_count": 571,
   "id": "funny-citizenship",
   "metadata": {},
   "outputs": [
    {
     "name": "stdout",
     "output_type": "stream",
     "text": [
      "CPU times: user 34.5 s, sys: 1.37 s, total: 35.9 s\n",
      "Wall time: 37 s\n"
     ]
    }
   ],
   "source": [
    "%%time\n",
    "clf_GBT = GradientBoostingClassifier().fit(X_train, y_train)\n",
    "y_pred_val = clf_GBT.predict_proba(X_val)[:,1]"
   ]
  },
  {
   "cell_type": "code",
   "execution_count": 572,
   "id": "equipped-holder",
   "metadata": {},
   "outputs": [
    {
     "name": "stdout",
     "output_type": "stream",
     "text": [
      "ROC AUC: 0.549912169678701\n"
     ]
    },
    {
     "data": {
      "image/png": "[encoded data removed]",
      "text/plain": [
       "<Figure size 720x576 with 1 Axes>"
      ]
     },
     "metadata": {
      "needs_background": "light"
     },
     "output_type": "display_data"
    }
   ],
   "source": [
    "false_positive_rate, true_positive_rate, thresholds = metrics.roc_curve(y_val, y_pred_val)\n",
    "\n",
    "roc_auc = metrics.auc(false_positive_rate, true_positive_rate)\n",
    "print('ROC AUC:', roc_auc)\n",
    "\n",
    "lw = 2\n",
    "plt.figure()\n",
    "plt.plot(false_positive_rate, true_positive_rate, color='darkorange',\n",
    "         lw=lw, label='ROC curve (area = %0.2f)' % roc_auc)\n",
    "plt.plot([0, 1], [0, 1], color='navy', lw=lw, linestyle='--')\n",
    "plt.xlim([0.0, 1.0])\n",
    "plt.ylim([0.0, 1.05])\n",
    "plt.xlabel('False Positive Rate')\n",
    "plt.ylabel('True Positive Rate')\n",
    "plt.title('ROC Curve on the Gradient Boosted Trees model with oversampling')\n",
    "plt.legend(loc=\"lower right\")\n",
    "plt.show()"
   ]
  },
  {
   "cell_type": "code",
   "execution_count": 573,
   "id": "useful-insider",
   "metadata": {},
   "outputs": [
    {
     "data": {
      "text/plain": [
       "<sklearn.metrics._plot.precision_recall_curve.PrecisionRecallDisplay at 0x7f83bfc8ec50>"
      ]
     },
     "execution_count": 573,
     "metadata": {},
     "output_type": "execute_result"
    },
    {
     "data": {
      "text/plain": [
       "<Figure size 720x576 with 0 Axes>"
      ]
     },
     "metadata": {},
     "output_type": "display_data"
    },
    {
     "data": {
      "image/png": "[encoded data removed]",
      "text/plain": [
       "<Figure size 720x576 with 1 Axes>"
      ]
     },
     "metadata": {
      "needs_background": "light"
     },
     "output_type": "display_data"
    }
   ],
   "source": [
    "plt.figure()\n",
    "metrics.plot_precision_recall_curve(clf_GBT, X_val, y_val)"
   ]
  },
  {
   "cell_type": "code",
   "execution_count": 574,
   "id": "increasing-watch",
   "metadata": {},
   "outputs": [
    {
     "data": {
      "text/plain": [
       "Text(0, 0.5, 'Frequency')"
      ]
     },
     "execution_count": 574,
     "metadata": {},
     "output_type": "execute_result"
    },
    {
     "data": {
      "image/png": "[encoded data removed]",
      "text/plain": [
       "<Figure size 720x576 with 1 Axes>"
      ]
     },
     "metadata": {
      "needs_background": "light"
     },
     "output_type": "display_data"
    }
   ],
   "source": [
    "# Displayng the distribution of probabilities calculated by the model\n",
    "plt.figure()\n",
    "plt.hist(y_pred_val)\n",
    "plt.title(\"Distribution of probabilities calculated by the Gradient Boosted Trees\")\n",
    "plt.xlabel(\"P(viral)\")\n",
    "plt.ylabel(\"Frequency\")"
   ]
  },
  {
   "cell_type": "code",
   "execution_count": 575,
   "id": "earlier-norway",
   "metadata": {},
   "outputs": [
    {
     "name": "stdout",
     "output_type": "stream",
     "text": [
      "For 0.32 threshold, the obtained metrics are:\n",
      "F1 Score = 0.1841344843253067\n",
      "Precision = 0.10764065952745198\n",
      "Accuracy = 0.44901691254080855\n",
      "\n",
      "Confusion matrix:\n",
      "[[31519 41998]\n",
      " [ 2895  5066]]\n",
      "\n",
      "Normalized confusion matrix:\n",
      "[[0.42873077 0.57126923]\n",
      " [0.36364778 0.63635222]]\n"
     ]
    }
   ],
   "source": [
    "best_threshold = find_max_F1_threshold(y_pred_val, y_val)\n",
    "print_metrics(best_threshold, y_pred_val, y_val)"
   ]
  },
  {
   "cell_type": "markdown",
   "id": "indie-occurrence",
   "metadata": {},
   "source": [
    "Neither the downsampling nor the oversampling improved the performance of the model so I will abandon this practice. Now, I want to conduct the hyperparameter tuning of the so-far best-performing algorithm - GBT. This will be done on the training data and the model with best params will be checked on the validation set."
   ]
  },
  {
   "cell_type": "code",
   "execution_count": 576,
   "id": "anonymous-universal",
   "metadata": {},
   "outputs": [
    {
     "name": "stdout",
     "output_type": "stream",
     "text": [
      "Fitting 5 folds for each of 10 candidates, totalling 50 fits\n",
      "[CV] END criterion=mse, learning_rate=0.1, max_depth=6, min_samples_split=2, n_estimators=50; total time=  22.5s\n",
      "[CV] END criterion=mse, learning_rate=0.1, max_depth=6, min_samples_split=2, n_estimators=50; total time=  22.2s\n",
      "[CV] END criterion=mse, learning_rate=0.1, max_depth=6, min_samples_split=2, n_estimators=50; total time=  20.7s\n",
      "[CV] END criterion=mse, learning_rate=0.1, max_depth=6, min_samples_split=2, n_estimators=50; total time=  21.5s\n",
      "[CV] END criterion=mse, learning_rate=0.1, max_depth=6, min_samples_split=2, n_estimators=50; total time=  22.2s\n",
      "[CV] END criterion=mse, learning_rate=0.1, max_depth=6, min_samples_split=2, n_estimators=200; total time= 1.4min\n",
      "[CV] END criterion=mse, learning_rate=0.1, max_depth=6, min_samples_split=2, n_estimators=200; total time= 1.6min\n",
      "[CV] END criterion=mse, learning_rate=0.1, max_depth=6, min_samples_split=2, n_estimators=200; total time= 1.5min\n",
      "[CV] END criterion=mse, learning_rate=0.1, max_depth=6, min_samples_split=2, n_estimators=200; total time= 1.5min\n",
      "[CV] END criterion=mse, learning_rate=0.1, max_depth=6, min_samples_split=2, n_estimators=200; total time= 1.6min\n",
      "[CV] END criterion=mse, learning_rate=0.1, max_depth=10, min_samples_split=2, n_estimators=100; total time= 1.3min\n",
      "[CV] END criterion=mse, learning_rate=0.1, max_depth=10, min_samples_split=2, n_estimators=100; total time= 1.2min\n",
      "[CV] END criterion=mse, learning_rate=0.1, max_depth=10, min_samples_split=2, n_estimators=100; total time= 1.2min\n",
      "[CV] END criterion=mse, learning_rate=0.1, max_depth=10, min_samples_split=2, n_estimators=100; total time= 1.1min\n",
      "[CV] END criterion=mse, learning_rate=0.1, max_depth=10, min_samples_split=2, n_estimators=100; total time= 1.2min\n",
      "[CV] END criterion=mse, learning_rate=0.1, max_depth=6, min_samples_split=10, n_estimators=200; total time= 1.3min\n",
      "[CV] END criterion=mse, learning_rate=0.1, max_depth=6, min_samples_split=10, n_estimators=200; total time= 1.3min\n",
      "[CV] END criterion=mse, learning_rate=0.1, max_depth=6, min_samples_split=10, n_estimators=200; total time= 1.3min\n",
      "[CV] END criterion=mse, learning_rate=0.1, max_depth=6, min_samples_split=10, n_estimators=200; total time= 1.3min\n",
      "[CV] END criterion=mse, learning_rate=0.1, max_depth=6, min_samples_split=10, n_estimators=200; total time= 1.3min\n",
      "[CV] END criterion=mse, learning_rate=0.1, max_depth=3, min_samples_split=10, n_estimators=200; total time=  46.8s\n",
      "[CV] END criterion=mse, learning_rate=0.1, max_depth=3, min_samples_split=10, n_estimators=200; total time=  51.1s\n",
      "[CV] END criterion=mse, learning_rate=0.1, max_depth=3, min_samples_split=10, n_estimators=200; total time=  49.7s\n",
      "[CV] END criterion=mse, learning_rate=0.1, max_depth=3, min_samples_split=10, n_estimators=200; total time=  49.0s\n",
      "[CV] END criterion=mse, learning_rate=0.1, max_depth=3, min_samples_split=10, n_estimators=200; total time=  48.8s\n",
      "[CV] END criterion=mse, learning_rate=0.01, max_depth=10, min_samples_split=2, n_estimators=200; total time= 2.4min\n",
      "[CV] END criterion=mse, learning_rate=0.01, max_depth=10, min_samples_split=2, n_estimators=200; total time= 2.4min\n",
      "[CV] END criterion=mse, learning_rate=0.01, max_depth=10, min_samples_split=2, n_estimators=200; total time= 2.7min\n",
      "[CV] END criterion=mse, learning_rate=0.01, max_depth=10, min_samples_split=2, n_estimators=200; total time= 2.4min\n",
      "[CV] END criterion=mse, learning_rate=0.01, max_depth=10, min_samples_split=2, n_estimators=200; total time= 2.3min\n",
      "[CV] END criterion=mse, learning_rate=0.01, max_depth=3, min_samples_split=10, n_estimators=200; total time=  51.0s\n",
      "[CV] END criterion=mse, learning_rate=0.01, max_depth=3, min_samples_split=10, n_estimators=200; total time=  48.3s\n",
      "[CV] END criterion=mse, learning_rate=0.01, max_depth=3, min_samples_split=10, n_estimators=200; total time=  49.2s\n",
      "[CV] END criterion=mse, learning_rate=0.01, max_depth=3, min_samples_split=10, n_estimators=200; total time=  46.9s\n",
      "[CV] END criterion=mse, learning_rate=0.01, max_depth=3, min_samples_split=10, n_estimators=200; total time=  47.9s\n",
      "[CV] END criterion=mse, learning_rate=0.01, max_depth=10, min_samples_split=2, n_estimators=100; total time= 1.1min\n",
      "[CV] END criterion=mse, learning_rate=0.01, max_depth=10, min_samples_split=2, n_estimators=100; total time= 1.1min\n",
      "[CV] END criterion=mse, learning_rate=0.01, max_depth=10, min_samples_split=2, n_estimators=100; total time= 1.1min\n",
      "[CV] END criterion=mse, learning_rate=0.01, max_depth=10, min_samples_split=2, n_estimators=100; total time= 1.1min\n",
      "[CV] END criterion=mse, learning_rate=0.01, max_depth=10, min_samples_split=2, n_estimators=100; total time= 1.1min\n",
      "[CV] END criterion=mse, learning_rate=0.1, max_depth=10, min_samples_split=2, n_estimators=50; total time=  35.3s\n",
      "[CV] END criterion=mse, learning_rate=0.1, max_depth=10, min_samples_split=2, n_estimators=50; total time=  37.3s\n",
      "[CV] END criterion=mse, learning_rate=0.1, max_depth=10, min_samples_split=2, n_estimators=50; total time=  33.9s\n",
      "[CV] END criterion=mse, learning_rate=0.1, max_depth=10, min_samples_split=2, n_estimators=50; total time=  33.4s\n",
      "[CV] END criterion=mse, learning_rate=0.1, max_depth=10, min_samples_split=2, n_estimators=50; total time=  33.8s\n",
      "[CV] END criterion=mse, learning_rate=0.01, max_depth=3, min_samples_split=2, n_estimators=50; total time=  11.2s\n",
      "[CV] END criterion=mse, learning_rate=0.01, max_depth=3, min_samples_split=2, n_estimators=50; total time=  11.0s\n",
      "[CV] END criterion=mse, learning_rate=0.01, max_depth=3, min_samples_split=2, n_estimators=50; total time=  11.2s\n",
      "[CV] END criterion=mse, learning_rate=0.01, max_depth=3, min_samples_split=2, n_estimators=50; total time=  11.0s\n",
      "[CV] END criterion=mse, learning_rate=0.01, max_depth=3, min_samples_split=2, n_estimators=50; total time=  11.1s\n",
      "Best parameters: {'n_estimators': 200, 'min_samples_split': 10, 'max_depth': 3, 'learning_rate': 0.01, 'criterion': 'mse'}\n"
     ]
    }
   ],
   "source": [
    "# values for parameter grid\n",
    "learning_rate = [0.1, 0.01] \n",
    "n_estimators = [50, 100, 200]\n",
    "min_samples_split = [2, 10]\n",
    "max_depth = [3, 6, 10]\n",
    "\n",
    "# Create the random grid\n",
    "random_grid = {\n",
    "    'learning_rate': learning_rate,\n",
    "    'n_estimators': n_estimators,\n",
    "    'criterion': criterion,\n",
    "    'min_samples_split': min_samples_split,\n",
    "    'max_depth': max_depth\n",
    "    }\n",
    "\n",
    "gbt_clf = GradientBoostingClassifier()\n",
    "\n",
    "#using the RandomizedSearchCV from scikit-learn to run the CV and obtain the parameters\n",
    "gbt_clf_random = RandomizedSearchCV(estimator = gbt_clf, param_distributions = random_grid, cv = 5, verbose=2, random_state=123, n_jobs=1)\n",
    "\n",
    "# Fit the random search model\n",
    "gbt_clf_random.fit(X_train_class, y_train_class)\n",
    "print(\"Best parameters:\", gbt_clf_random.best_params_)"
   ]
  },
  {
   "cell_type": "code",
   "execution_count": 577,
   "id": "together-quarterly",
   "metadata": {},
   "outputs": [
    {
     "name": "stdout",
     "output_type": "stream",
     "text": [
      "CPU times: user 1min 4s, sys: 2.31 s, total: 1min 6s\n",
      "Wall time: 1min 8s\n"
     ]
    }
   ],
   "source": [
    "%%time\n",
    "clf_GBT = GradientBoostingClassifier(n_estimators = 200, min_samples_split = 10, max_depth = 3, learning_rate = 0.01).fit(X_train_class, y_train_class)\n",
    "y_pred_test = clf_GBT.predict_proba(X_test_class)[:,1]"
   ]
  },
  {
   "cell_type": "code",
   "execution_count": 578,
   "id": "boxed-reasoning",
   "metadata": {},
   "outputs": [
    {
     "name": "stdout",
     "output_type": "stream",
     "text": [
      "ROC AUC: 0.5540319440522765\n"
     ]
    },
    {
     "data": {
      "image/png": "[encoded data removed]",
      "text/plain": [
       "<Figure size 720x576 with 1 Axes>"
      ]
     },
     "metadata": {
      "needs_background": "light"
     },
     "output_type": "display_data"
    }
   ],
   "source": [
    "false_positive_rate, true_positive_rate, thresholds = metrics.roc_curve(y_test_class, y_pred_test)\n",
    "\n",
    "roc_auc = metrics.auc(false_positive_rate, true_positive_rate)\n",
    "print('ROC AUC:', roc_auc)\n",
    "\n",
    "lw = 2\n",
    "plt.figure()\n",
    "plt.plot(false_positive_rate, true_positive_rate, color='darkorange',\n",
    "         lw=lw, label='ROC curve (area = %0.2f)' % roc_auc)\n",
    "plt.plot([0, 1], [0, 1], color='navy', lw=lw, linestyle='--')\n",
    "plt.xlim([0.0, 1.0])\n",
    "plt.ylim([0.0, 1.05])\n",
    "plt.xlabel('False Positive Rate')\n",
    "plt.ylabel('True Positive Rate')\n",
    "plt.title('ROC Curve on fine-tuned Gradient Boosted Trees')\n",
    "plt.legend(loc=\"lower right\")\n",
    "plt.show()"
   ]
  },
  {
   "cell_type": "code",
   "execution_count": 579,
   "id": "diverse-boutique",
   "metadata": {},
   "outputs": [
    {
     "data": {
      "text/plain": [
       "<sklearn.metrics._plot.precision_recall_curve.PrecisionRecallDisplay at 0x7f83bfb47650>"
      ]
     },
     "execution_count": 579,
     "metadata": {},
     "output_type": "execute_result"
    },
    {
     "data": {
      "text/plain": [
       "<Figure size 720x576 with 0 Axes>"
      ]
     },
     "metadata": {},
     "output_type": "display_data"
    },
    {
     "data": {
      "image/png": "[encoded data removed]",
      "text/plain": [
       "<Figure size 720x576 with 1 Axes>"
      ]
     },
     "metadata": {
      "needs_background": "light"
     },
     "output_type": "display_data"
    }
   ],
   "source": [
    "plt.figure()\n",
    "metrics.plot_precision_recall_curve(clf_GBT, X_test_class, y_test_class)"
   ]
  },
  {
   "cell_type": "code",
   "execution_count": 580,
   "id": "soviet-clarity",
   "metadata": {},
   "outputs": [
    {
     "data": {
      "text/plain": [
       "Text(0, 0.5, 'Frequency')"
      ]
     },
     "execution_count": 580,
     "metadata": {},
     "output_type": "execute_result"
    },
    {
     "data": {
      "image/png": "[encoded data removed]",
      "text/plain": [
       "<Figure size 720x576 with 1 Axes>"
      ]
     },
     "metadata": {
      "needs_background": "light"
     },
     "output_type": "display_data"
    }
   ],
   "source": [
    "# Displayng the distribution of probabilities calculated by the model\n",
    "plt.figure()\n",
    "plt.hist(y_pred_test)\n",
    "plt.title(\"Distribution of probabilities calculated by the Gradient Boosted Trees\")\n",
    "plt.xlabel(\"P(viral)\")\n",
    "plt.ylabel(\"Frequency\")"
   ]
  },
  {
   "cell_type": "code",
   "execution_count": 581,
   "id": "specific-scheduling",
   "metadata": {},
   "outputs": [
    {
     "name": "stdout",
     "output_type": "stream",
     "text": [
      "For 0.09 threshold, the obtained metrics are:\n",
      "F1 Score = 0.18631231065822088\n",
      "Precision = 0.10534374918896473\n",
      "Accuracy = 0.3037860340900165\n",
      "\n",
      "Confusion matrix:\n",
      "[[22822 68944]\n",
      " [ 1964  8118]]\n",
      "\n",
      "Normalized confusion matrix:\n",
      "[[0.24869777 0.75130223]\n",
      " [0.19480262 0.80519738]]\n"
     ]
    }
   ],
   "source": [
    "best_threshold = find_max_F1_threshold(y_pred_test, y_test_class)\n",
    "print_metrics(best_threshold, y_pred_test, y_test_class)"
   ]
  },
  {
   "cell_type": "markdown",
   "id": "usual-triumph",
   "metadata": {},
   "source": [
    "The continuation of this experiment is in the google colab notebook. The Neural Nets trained there perform much better than the algorithms used here."
   ]
  },
  {
   "cell_type": "code",
   "execution_count": null,
   "id": "waiting-trail",
   "metadata": {},
   "outputs": [],
   "source": []
  }
 ],
 "metadata": {
  "kernelspec": {
   "display_name": "Python 3",
   "language": "python",
   "name": "python3"
  },
  "language_info": {
   "codemirror_mode": {
    "name": "ipython",
    "version": 3
   },
   "file_extension": ".py",
   "mimetype": "text/x-python",
   "name": "python",
   "nbconvert_exporter": "python",
   "pygments_lexer": "ipython3",
   "version": "3.7.10"
  }
 },
 "nbformat": 4,
 "nbformat_minor": 5
}
